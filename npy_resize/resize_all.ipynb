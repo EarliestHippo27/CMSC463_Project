{
 "cells": [
  {
   "cell_type": "code",
   "execution_count": 1,
   "id": "29d017ba-df4a-4c99-8138-00db565c11ed",
   "metadata": {},
   "outputs": [
    {
     "name": "stdout",
     "output_type": "stream",
     "text": [
      "Done\n"
     ]
    }
   ],
   "source": [
    "import os\n",
    "import cv2\n",
    "import torch\n",
    "import numpy as np\n",
    "\n",
    "print(\"Done\")"
   ]
  },
  {
   "cell_type": "code",
   "execution_count": 21,
   "id": "7d9f81af-01a4-48fc-91d5-11b79a907c0e",
   "metadata": {
    "scrolled": true
   },
   "outputs": [],
   "source": [
    "input_directory = \"..\\\\o_npy\"\n",
    "#output_dm_directory = \"o_dm\"\n",
    "output_npy_directory = \"o_npy_resized\""
   ]
  },
  {
   "cell_type": "code",
   "execution_count": 22,
   "id": "512ba316-80e2-400d-b276-a62e279156de",
   "metadata": {
    "scrolled": true
   },
   "outputs": [
    {
     "name": "stdout",
     "output_type": "stream",
     "text": [
      "Done\n"
     ]
    }
   ],
   "source": [
    "for fn in os.listdir(input_directory):\n",
    "    filename = os.path.join(input_directory, fn)\n",
    "    img = np.load(filename)\n",
    "\n",
    "    h, w = img.shape[:2]\n",
    "    target_w = 224\n",
    "    target_h = 224\n",
    "    pad_value = 0\n",
    "    \n",
    "    # Compute scale and new size\n",
    "    scale = min(target_w / w, target_h / h)\n",
    "    new_w, new_h = int(w * scale), int(h * scale)\n",
    "    \n",
    "    resized = cv2.resize(img, (new_w, new_h), interpolation=cv2.INTER_LINEAR)\n",
    "    \n",
    "    padded = np.full((target_h, target_w), pad_value, dtype=resized.dtype)\n",
    "    top = (target_h - new_h) // 2\n",
    "    left = (target_w - new_w) // 2\n",
    "    padded[top:top+new_h, left:left+new_w] = resized\n",
    "\n",
    "    np.save(os.path.join(output_npy_directory, fn), padded)\n",
    "\n",
    "print(\"Done\")"
   ]
  },
  {
   "cell_type": "code",
   "execution_count": null,
   "id": "765eeff8-258f-4d7a-96b6-0956043c3cde",
   "metadata": {},
   "outputs": [],
   "source": []
  }
 ],
 "metadata": {
  "kernelspec": {
   "display_name": "Python 3 (ipykernel)",
   "language": "python",
   "name": "python3"
  },
  "language_info": {
   "codemirror_mode": {
    "name": "ipython",
    "version": 3
   },
   "file_extension": ".py",
   "mimetype": "text/x-python",
   "name": "python",
   "nbconvert_exporter": "python",
   "pygments_lexer": "ipython3",
   "version": "3.12.9"
  }
 },
 "nbformat": 4,
 "nbformat_minor": 5
}
