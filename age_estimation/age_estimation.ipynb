{
 "cells": [
  {
   "cell_type": "code",
   "execution_count": 16,
   "id": "07bf95a4-6919-4af7-b283-38f33689cb0f",
   "metadata": {},
   "outputs": [
    {
     "name": "stdout",
     "output_type": "stream",
     "text": [
      "Done\n"
     ]
    }
   ],
   "source": [
    "import os\n",
    "import torch\n",
    "import torch.nn as nn\n",
    "import torch.nn.functional as F\n",
    "from torch.utils.data import DataLoader, Dataset\n",
    "from torchvision import transforms#, datasets\n",
    "from torchvision.utils import make_grid\n",
    "\n",
    "import numpy as np\n",
    "import pandas as pd\n",
    "from sklearn.metrics import confusion_matrix\n",
    "import matplotlib.pyplot as plt\n",
    "%matplotlib inline\n",
    "\n",
    "print(\"Done\")"
   ]
  },
  {
   "cell_type": "code",
   "execution_count": 17,
   "id": "e8ff9efb-4c1d-4e3c-885b-b2d7521b9c4a",
   "metadata": {},
   "outputs": [],
   "source": [
    "# Dataset and Annotations\n",
    "input_directory = \"..\\\\o_npy_resized\" #244x244 npy files\n",
    "annotations_path = \"age_annotations.csv\""
   ]
  },
  {
   "cell_type": "code",
   "execution_count": 18,
   "id": "13da375a-f9d8-4875-87cf-d9405b650128",
   "metadata": {},
   "outputs": [
    {
     "data": {
      "text/plain": [
       "<torch._C.Generator at 0x24e4fdc02b0>"
      ]
     },
     "execution_count": 18,
     "metadata": {},
     "output_type": "execute_result"
    }
   ],
   "source": [
    "# Seed\n",
    "torch.manual_seed(627726)"
   ]
  },
  {
   "cell_type": "code",
   "execution_count": 19,
   "id": "0dd8c193-59e6-4f57-bf90-9f4039105500",
   "metadata": {},
   "outputs": [],
   "source": [
    "# Dataset Class\n",
    "class AgeDataset(Dataset):\n",
    "    def __init__(self, csv_file, root_dir, transform=None):\n",
    "        self.annotations = pd.read_csv(csv_file)\n",
    "        self.annotations = self.annotations[(self.annotations['Age'] != 0) & (self.annotations['Age'].notnull())] # removes rows where age is unknown\n",
    "        self.root_dir = root_dir\n",
    "        self.transform = transform\n",
    "    def __len__(self):\n",
    "        return len(self.annotations)\n",
    "    def __getitem__(self, index):\n",
    "        img_path = os.path.join(self.root_dir, self.annotations.iloc[index, 0])\n",
    "        image = np.load(img_path)\n",
    "        y_label = torch.tensor(float(self.annotations.iloc[index, 1]))\n",
    "\n",
    "        if self.transform:\n",
    "            image = self.transform(image)\n",
    "\n",
    "        return (image, y_label)"
   ]
  },
  {
   "cell_type": "code",
   "execution_count": 20,
   "id": "68d6e89a-38e4-4284-9af8-5c678837d080",
   "metadata": {},
   "outputs": [],
   "source": [
    "# Create Dataset\n",
    "dts = AgeDataset(csv_file=annotations_path, root_dir=input_directory, transform=transforms.ToTensor())"
   ]
  },
  {
   "cell_type": "code",
   "execution_count": 23,
   "id": "9dbe1626-495b-49ba-a7a5-c1b0e82ed5bf",
   "metadata": {
    "scrolled": true
   },
   "outputs": [
    {
     "data": {
      "text/plain": [
       "'\\n# Get Min and Max\\nmin_val = 1000.0\\nmax_val = 0.0\\navg_val = 0.0\\ntotal_val = 0.0\\nfor i in dts:\\n    min_val = min(i[1].item(), min_val)\\n    max_val = max(i[1].item(), max_val)\\n    total_val += i[1].item()\\navg_val = total_val/len(dts)\\nprint(min_val)\\nprint(max_val)\\nprint(total_val)\\nprint(avg_val)\\n'"
      ]
     },
     "execution_count": 23,
     "metadata": {},
     "output_type": "execute_result"
    }
   ],
   "source": [
    "\"\"\"\n",
    "# Get Min and Max\n",
    "min_val = 1000.0\n",
    "max_val = 0.0\n",
    "avg_val = 0.0\n",
    "total_val = 0.0\n",
    "for i in dts:\n",
    "    min_val = min(i[1].item(), min_val)\n",
    "    max_val = max(i[1].item(), max_val)\n",
    "    total_val += i[1].item()\n",
    "avg_val = total_val/len(dts)\n",
    "print(min_val)\n",
    "print(max_val)\n",
    "print(total_val)\n",
    "print(avg_val)\n",
    "\"\"\""
   ]
  },
  {
   "cell_type": "code",
   "execution_count": 24,
   "id": "030767fc-99f0-4f30-8fe7-4baa63d77fb6",
   "metadata": {},
   "outputs": [
    {
     "data": {
      "text/plain": [
       "'\\nmin_age = 1000.0\\nmin_age_path = \"\"\\nmax_age = 0.0\\nmax_age_path = \"\"\\nfor i in dts:\\n    if i[1] > max_age:\\n        max_age = i[1]\\n        max_age_path = i[2]\\n        print(\"new max: \" + max_age_path)\\n    if i[1] < min_age:\\n        min_age = i[1]\\n        min_age_path = i[2]\\n        print(\"new min: \" + min_age_path)\\n\\nprint(max_age)\\nprint(max_age_path)\\nprint(min_age)\\nprint(min_age_path)\\n'"
      ]
     },
     "execution_count": 24,
     "metadata": {},
     "output_type": "execute_result"
    }
   ],
   "source": [
    "# Get Min and Max\n",
    "\"\"\"\n",
    "min_age = 1000.0\n",
    "min_age_path = \"\"\n",
    "max_age = 0.0\n",
    "max_age_path = \"\"\n",
    "for i in dts:\n",
    "    if i[1] > max_age:\n",
    "        max_age = i[1]\n",
    "        max_age_path = i[2]\n",
    "        print(\"new max: \" + max_age_path)\n",
    "    if i[1] < min_age:\n",
    "        min_age = i[1]\n",
    "        min_age_path = i[2]\n",
    "        print(\"new min: \" + min_age_path)\n",
    "\n",
    "print(max_age)\n",
    "print(max_age_path)\n",
    "print(min_age)\n",
    "print(min_age_path)\n",
    "\"\"\""
   ]
  },
  {
   "cell_type": "code",
   "execution_count": 6,
   "id": "bcdfd5b8-4e68-4e28-b3f3-97c52258d452",
   "metadata": {},
   "outputs": [],
   "source": [
    "# Create Test and Train Data\n",
    "train_size = int(len(dts) * 0.8)\n",
    "test_size = len(dts) - train_size\n",
    "\n",
    "train_data, test_data = torch.utils.data.random_split(dts, [train_size, test_size])"
   ]
  },
  {
   "cell_type": "code",
   "execution_count": 7,
   "id": "4976f70b-c06d-4a9a-a249-13859b0257a1",
   "metadata": {},
   "outputs": [],
   "source": [
    "# Model Class\n",
    "class CNN(nn.Module):\n",
    "    def __init__(self):\n",
    "        super().__init__()\n",
    "        self.conv1 = nn.Conv2d(1, 32, 3, 1) \n",
    "        self.conv2 = nn.Conv2d(32, 64, 3, 1)\n",
    "        self.conv3 = nn.Conv2d(64, 128, 3, 1)\n",
    "\n",
    "        self.dp1 = nn.Dropout(0.5)\n",
    "        \n",
    "        self.fc1 = nn.Linear(26*26*128, 1)\n",
    "\n",
    "    def forward(self, X):\n",
    "        # Basically what we did in the previous step\n",
    "        X = F.relu(self.conv1(X))\n",
    "        X = F.max_pool2d(X,2,2)\n",
    "\n",
    "        X = F.relu(self.conv2(X))\n",
    "        X = F.max_pool2d(X,2,2)\n",
    "\n",
    "        X = F.relu(self.conv3(X))\n",
    "        X = F.max_pool2d(X,2,2)\n",
    "\n",
    "        # Flatten Data\n",
    "        # input is -1 to automatically infer batch size, this means we can have a varying batch size\n",
    "        # output is the number of features\n",
    "        X = X.view(-1, 26*26*128)\n",
    "\n",
    "        # Dropout\n",
    "        X = self.dp1(X)\n",
    "        \n",
    "        # FC Layers\n",
    "        X = self.fc1(X)\n",
    "\n",
    "        return X #F.log_softmax(X, dim=1)"
   ]
  },
  {
   "cell_type": "code",
   "execution_count": 12,
   "id": "7f47c902-8345-4934-a01e-02b14ebd3473",
   "metadata": {},
   "outputs": [
    {
     "data": {
      "text/plain": [
       "CNN(\n",
       "  (conv1): Conv2d(1, 32, kernel_size=(3, 3), stride=(1, 1))\n",
       "  (conv2): Conv2d(32, 64, kernel_size=(3, 3), stride=(1, 1))\n",
       "  (conv3): Conv2d(64, 128, kernel_size=(3, 3), stride=(1, 1))\n",
       "  (dp1): Dropout(p=0.5, inplace=False)\n",
       "  (fc1): Linear(in_features=86528, out_features=1, bias=True)\n",
       ")"
      ]
     },
     "execution_count": 12,
     "metadata": {},
     "output_type": "execute_result"
    }
   ],
   "source": [
    "# Create Model\n",
    "model = CNN()\n",
    "model"
   ]
  },
  {
   "cell_type": "code",
   "execution_count": 13,
   "id": "c3e06da2-2938-45f8-8b56-33894808d357",
   "metadata": {},
   "outputs": [],
   "source": [
    "# Loss Function optimizer\n",
    "criterion = nn.L1Loss() # MAE Loss for outliers\n",
    "# lr is learning rate, smaller is slower but better, higher is faster but worse\n",
    "optimizer = torch.optim.Adam(model.parameters(), lr=0.001)"
   ]
  },
  {
   "cell_type": "code",
   "execution_count": 14,
   "id": "de21edfb-c15d-478c-bd9d-d577c797a84c",
   "metadata": {
    "scrolled": true
   },
   "outputs": [
    {
     "name": "stdout",
     "output_type": "stream",
     "text": [
      "Epoch: 0 Batch: 10 Loss: 22.120656967163086 Time: 5.6420934200286865\n",
      "Epoch: 0 Batch: 20 Loss: 9.419528007507324 Time: 11.344509840011597\n",
      "Epoch: 0 Batch: 30 Loss: 10.6806001663208 Time: 17.025186777114868\n",
      "Epoch: 0 Batch: 40 Loss: 13.620420455932617 Time: 22.71313714981079\n",
      "Epoch: 0 Batch: 50 Loss: 11.236467361450195 Time: 28.419490575790405\n",
      "Epoch: 0 Batch: 60 Loss: 7.361139297485352 Time: 34.1225152015686\n",
      "Epoch: 0 Batch: 70 Loss: 8.140727043151855 Time: 39.84815001487732\n",
      "Epoch: 0 Batch: 80 Loss: 7.953033447265625 Time: 45.559226751327515\n",
      "Epoch: 0 Batch: 90 Loss: 8.789117813110352 Time: 51.30779695510864\n",
      "Epoch: 0 Batch: 100 Loss: 9.313365936279297 Time: 56.96055793762207\n",
      "Epoch: 0 Batch: 110 Loss: 9.150919914245605 Time: 62.67598056793213\n",
      "Epoch: 0 Batch: 120 Loss: 8.16657543182373 Time: 68.39257049560547\n",
      "Epoch: 0 Batch: 130 Loss: 7.898207664489746 Time: 74.0993926525116\n",
      "Epoch: 0 Batch: 140 Loss: 9.541618347167969 Time: 79.87467575073242\n",
      "Epoch: 0 Batch: 150 Loss: 7.848494052886963 Time: 85.57536554336548\n",
      "Epoch: 0 Batch: 160 Loss: 6.4004225730896 Time: 91.30808925628662\n",
      "Epoch: 0 Batch: 170 Loss: 6.889286994934082 Time: 96.97486209869385\n",
      "Epoch: 0 Batch: 180 Loss: 11.41808795928955 Time: 102.71159410476685\n",
      "Epoch: 0 Avg Loss: 10.263761652108714 Time: 102.81960320472717\n",
      "Epoch: 1 Batch: 10 Loss: 6.643007278442383 Time: 119.69804668426514\n",
      "Epoch: 1 Batch: 20 Loss: 7.267361640930176 Time: 125.59151268005371\n",
      "Epoch: 1 Batch: 30 Loss: 7.344674587249756 Time: 131.35615181922913\n",
      "Epoch: 1 Batch: 40 Loss: 9.856307983398438 Time: 137.16092824935913\n",
      "Epoch: 1 Batch: 50 Loss: 7.341655254364014 Time: 142.8930492401123\n",
      "Epoch: 1 Batch: 60 Loss: 9.378737449645996 Time: 148.63199853897095\n",
      "Epoch: 1 Batch: 70 Loss: 10.509705543518066 Time: 154.36951184272766\n",
      "Epoch: 1 Batch: 80 Loss: 11.485336303710938 Time: 160.13790345191956\n",
      "Epoch: 1 Batch: 90 Loss: 8.544034957885742 Time: 165.88715982437134\n",
      "Epoch: 1 Batch: 100 Loss: 6.226164817810059 Time: 171.6264681816101\n",
      "Epoch: 1 Batch: 110 Loss: 8.893011093139648 Time: 177.37233519554138\n",
      "Epoch: 1 Batch: 120 Loss: 7.291351318359375 Time: 183.14132738113403\n",
      "Epoch: 1 Batch: 130 Loss: 7.186401844024658 Time: 188.86942505836487\n",
      "Epoch: 1 Batch: 140 Loss: 6.795536994934082 Time: 194.71991848945618\n",
      "Epoch: 1 Batch: 150 Loss: 6.267308712005615 Time: 200.54976558685303\n",
      "Epoch: 1 Batch: 160 Loss: 7.092967987060547 Time: 206.33194947242737\n",
      "Epoch: 1 Batch: 170 Loss: 7.7452073097229 Time: 212.0789294242859\n",
      "Epoch: 1 Batch: 180 Loss: 6.544443130493164 Time: 217.81674146652222\n",
      "Epoch: 1 Avg Loss: 8.515489915457879 Time: 217.9244029521942\n",
      "Epoch: 2 Batch: 10 Loss: 6.273462295532227 Time: 234.99689173698425\n",
      "Epoch: 2 Batch: 20 Loss: 8.939836502075195 Time: 240.7254090309143\n",
      "Epoch: 2 Batch: 30 Loss: 9.16256046295166 Time: 246.67091155052185\n",
      "Epoch: 2 Batch: 40 Loss: 8.860143661499023 Time: 252.39453625679016\n",
      "Epoch: 2 Batch: 50 Loss: 9.534735679626465 Time: 258.16220712661743\n",
      "Epoch: 2 Batch: 60 Loss: 10.026248931884766 Time: 263.932345867157\n",
      "Epoch: 2 Batch: 70 Loss: 8.7465238571167 Time: 269.6708481311798\n",
      "Epoch: 2 Batch: 80 Loss: 7.016628265380859 Time: 275.3907399177551\n",
      "Epoch: 2 Batch: 90 Loss: 5.52452278137207 Time: 281.0915217399597\n",
      "Epoch: 2 Batch: 100 Loss: 8.216584205627441 Time: 286.89252734184265\n",
      "Epoch: 2 Batch: 110 Loss: 10.231485366821289 Time: 292.641893863678\n",
      "Epoch: 2 Batch: 120 Loss: 6.264904022216797 Time: 298.43536400794983\n",
      "Epoch: 2 Batch: 130 Loss: 8.944476127624512 Time: 304.1993088722229\n",
      "Epoch: 2 Batch: 140 Loss: 8.255465507507324 Time: 309.98000407218933\n",
      "Epoch: 2 Batch: 150 Loss: 8.458802223205566 Time: 315.7787170410156\n",
      "Epoch: 2 Batch: 160 Loss: 6.8283586502075195 Time: 321.5180695056915\n",
      "Epoch: 2 Batch: 170 Loss: 8.009538650512695 Time: 327.2685294151306\n",
      "Epoch: 2 Batch: 180 Loss: 7.968305587768555 Time: 333.033066034317\n",
      "Epoch: 2 Avg Loss: 8.214450570101237 Time: 333.14174151420593\n",
      "Epoch: 3 Batch: 10 Loss: 9.2012357711792 Time: 350.3369929790497\n",
      "Epoch: 3 Batch: 20 Loss: 8.7559175491333 Time: 356.07719588279724\n",
      "Epoch: 3 Batch: 30 Loss: 7.150487899780273 Time: 361.7949392795563\n",
      "Epoch: 3 Batch: 40 Loss: 6.0753984451293945 Time: 367.5420892238617\n",
      "Epoch: 3 Batch: 50 Loss: 8.300309181213379 Time: 373.4791569709778\n",
      "Epoch: 3 Batch: 60 Loss: 8.913168907165527 Time: 379.2404086589813\n",
      "Epoch: 3 Batch: 70 Loss: 7.658045291900635 Time: 385.0368113517761\n",
      "Epoch: 3 Batch: 80 Loss: 7.598091125488281 Time: 390.8363494873047\n",
      "Epoch: 3 Batch: 90 Loss: 7.912887096405029 Time: 396.6035647392273\n",
      "Epoch: 3 Batch: 100 Loss: 8.297235488891602 Time: 402.3595972061157\n",
      "Epoch: 3 Batch: 110 Loss: 6.4168477058410645 Time: 408.14415192604065\n",
      "Epoch: 3 Batch: 120 Loss: 8.169228553771973 Time: 413.90836119651794\n",
      "Epoch: 3 Batch: 130 Loss: 7.101563453674316 Time: 419.7027518749237\n",
      "Epoch: 3 Batch: 140 Loss: 7.058690071105957 Time: 425.47464513778687\n",
      "Epoch: 3 Batch: 150 Loss: 6.665997505187988 Time: 431.23684906959534\n",
      "Epoch: 3 Batch: 160 Loss: 9.460335731506348 Time: 436.9494080543518\n",
      "Epoch: 3 Batch: 170 Loss: 9.496787071228027 Time: 442.66094851493835\n",
      "Epoch: 3 Batch: 180 Loss: 8.735164642333984 Time: 448.5032455921173\n",
      "Epoch: 3 Avg Loss: 8.217196988796003 Time: 448.61234521865845\n",
      "Epoch: 4 Batch: 10 Loss: 9.28366470336914 Time: 465.76469707489014\n",
      "Epoch: 4 Batch: 20 Loss: 5.597771644592285 Time: 471.5383713245392\n",
      "Epoch: 4 Batch: 30 Loss: 9.656729698181152 Time: 477.2840039730072\n",
      "Epoch: 4 Batch: 40 Loss: 7.204935073852539 Time: 483.0433716773987\n",
      "Epoch: 4 Batch: 50 Loss: 8.310868263244629 Time: 488.8598349094391\n",
      "Epoch: 4 Batch: 60 Loss: 8.262994766235352 Time: 494.8304908275604\n",
      "Epoch: 4 Batch: 70 Loss: 8.173895835876465 Time: 500.5799527168274\n",
      "Epoch: 4 Batch: 80 Loss: 8.10899543762207 Time: 506.3140926361084\n",
      "Epoch: 4 Batch: 90 Loss: 6.154462814331055 Time: 512.0190873146057\n",
      "Epoch: 4 Batch: 100 Loss: 7.071780681610107 Time: 517.773200750351\n",
      "Epoch: 4 Batch: 110 Loss: 7.552165985107422 Time: 523.5370447635651\n",
      "Epoch: 4 Batch: 120 Loss: 9.466938018798828 Time: 529.3014862537384\n",
      "Epoch: 4 Batch: 130 Loss: 7.501648426055908 Time: 535.0506508350372\n",
      "Epoch: 4 Batch: 140 Loss: 6.806806564331055 Time: 540.8439376354218\n",
      "Epoch: 4 Batch: 150 Loss: 8.284322738647461 Time: 546.6118772029877\n",
      "Epoch: 4 Batch: 160 Loss: 9.418790817260742 Time: 552.421192407608\n",
      "Epoch: 4 Batch: 170 Loss: 6.912307262420654 Time: 558.1605062484741\n",
      "Epoch: 4 Batch: 180 Loss: 6.872469425201416 Time: 563.9408366680145\n",
      "Epoch: 4 Avg Loss: 8.08845057145008 Time: 564.0507366657257\n",
      "Epoch: 5 Batch: 10 Loss: 7.307190418243408 Time: 581.2861838340759\n",
      "Epoch: 5 Batch: 20 Loss: 7.977675437927246 Time: 587.0399463176727\n",
      "Epoch: 5 Batch: 30 Loss: 8.146209716796875 Time: 592.8547525405884\n",
      "Epoch: 5 Batch: 40 Loss: 6.88805627822876 Time: 598.5873198509216\n",
      "Epoch: 5 Batch: 50 Loss: 5.008342742919922 Time: 604.3819725513458\n",
      "Epoch: 5 Batch: 60 Loss: 6.3693013191223145 Time: 610.1337344646454\n",
      "Epoch: 5 Batch: 70 Loss: 8.925509452819824 Time: 615.9936537742615\n",
      "Epoch: 5 Batch: 80 Loss: 7.370388031005859 Time: 621.8541896343231\n",
      "Epoch: 5 Batch: 90 Loss: 10.94632339477539 Time: 627.6223368644714\n",
      "Epoch: 5 Batch: 100 Loss: 5.954733371734619 Time: 633.3843910694122\n",
      "Epoch: 5 Batch: 110 Loss: 7.172614097595215 Time: 639.177565574646\n",
      "Epoch: 5 Batch: 120 Loss: 7.680288314819336 Time: 644.9217486381531\n",
      "Epoch: 5 Batch: 130 Loss: 7.517606735229492 Time: 650.6695659160614\n",
      "Epoch: 5 Batch: 140 Loss: 9.487462997436523 Time: 656.4755964279175\n",
      "Epoch: 5 Batch: 150 Loss: 11.042718887329102 Time: 662.2530167102814\n",
      "Epoch: 5 Batch: 160 Loss: 9.304317474365234 Time: 667.996034860611\n",
      "Epoch: 5 Batch: 170 Loss: 8.749947547912598 Time: 673.7874097824097\n",
      "Epoch: 5 Batch: 180 Loss: 8.62625503540039 Time: 679.547313451767\n",
      "Epoch: 5 Avg Loss: 8.054946224992447 Time: 679.703031539917\n",
      "Epoch: 6 Batch: 10 Loss: 11.164372444152832 Time: 696.9957292079926\n",
      "Epoch: 6 Batch: 20 Loss: 7.411389350891113 Time: 702.7796227931976\n",
      "Epoch: 6 Batch: 30 Loss: 6.144538402557373 Time: 708.5449857711792\n",
      "Epoch: 6 Batch: 40 Loss: 8.529180526733398 Time: 714.2856097221375\n",
      "Epoch: 6 Batch: 50 Loss: 7.677618980407715 Time: 720.0536525249481\n",
      "Epoch: 6 Batch: 60 Loss: 8.332932472229004 Time: 725.8141965866089\n",
      "Epoch: 6 Batch: 70 Loss: 6.07784366607666 Time: 731.5547664165497\n",
      "Epoch: 6 Batch: 80 Loss: 7.95082950592041 Time: 737.3349621295929\n",
      "Epoch: 6 Batch: 90 Loss: 7.59848690032959 Time: 743.2827787399292\n",
      "Epoch: 6 Batch: 100 Loss: 8.16197681427002 Time: 749.0724306106567\n",
      "Epoch: 6 Batch: 110 Loss: 7.951667785644531 Time: 754.8291809558868\n",
      "Epoch: 6 Batch: 120 Loss: 9.230384826660156 Time: 760.6345181465149\n",
      "Epoch: 6 Batch: 130 Loss: 7.353635787963867 Time: 766.3777120113373\n",
      "Epoch: 6 Batch: 140 Loss: 7.605067729949951 Time: 772.239254951477\n",
      "Epoch: 6 Batch: 150 Loss: 9.904692649841309 Time: 778.4673624038696\n",
      "Epoch: 6 Batch: 160 Loss: 6.016461372375488 Time: 784.4112482070923\n",
      "Epoch: 6 Batch: 170 Loss: 9.76293659210205 Time: 790.3033182621002\n",
      "Epoch: 6 Batch: 180 Loss: 9.069159507751465 Time: 796.1450231075287\n",
      "Epoch: 6 Avg Loss: 8.085774635083109 Time: 796.2556350231171\n",
      "Epoch: 7 Batch: 10 Loss: 8.568951606750488 Time: 813.8911697864532\n",
      "Epoch: 7 Batch: 20 Loss: 5.6904802322387695 Time: 819.6915454864502\n",
      "Epoch: 7 Batch: 30 Loss: 7.132622241973877 Time: 825.595383644104\n",
      "Epoch: 7 Batch: 40 Loss: 10.052559852600098 Time: 831.6413469314575\n",
      "Epoch: 7 Batch: 50 Loss: 7.026989459991455 Time: 837.4576914310455\n",
      "Epoch: 7 Batch: 60 Loss: 6.504654407501221 Time: 843.326639175415\n",
      "Epoch: 7 Batch: 70 Loss: 6.467937469482422 Time: 849.25026512146\n",
      "Epoch: 7 Batch: 80 Loss: 7.175053119659424 Time: 855.052542924881\n",
      "Epoch: 7 Batch: 90 Loss: 6.427271366119385 Time: 860.8327813148499\n",
      "Epoch: 7 Batch: 100 Loss: 5.859429359436035 Time: 866.8169050216675\n",
      "Epoch: 7 Batch: 110 Loss: 8.990880012512207 Time: 872.5933082103729\n",
      "Epoch: 7 Batch: 120 Loss: 10.200689315795898 Time: 878.3832325935364\n",
      "Epoch: 7 Batch: 130 Loss: 7.57760763168335 Time: 884.2035524845123\n",
      "Epoch: 7 Batch: 140 Loss: 6.615471839904785 Time: 889.9700775146484\n",
      "Epoch: 7 Batch: 150 Loss: 8.174822807312012 Time: 895.7663097381592\n",
      "Epoch: 7 Batch: 160 Loss: 8.792593955993652 Time: 901.597315788269\n",
      "Epoch: 7 Batch: 170 Loss: 5.576215744018555 Time: 907.3782784938812\n",
      "Epoch: 7 Batch: 180 Loss: 6.775023460388184 Time: 913.1973350048065\n",
      "Epoch: 7 Avg Loss: 8.002698489974216 Time: 913.3025958538055\n",
      "Training Took: 924.8533937931061 seconds!\n"
     ]
    }
   ],
   "source": [
    "import time\n",
    "start_time = time.time()\n",
    "\n",
    "# Define Tracking Vars\n",
    "# Number of times to train and test\n",
    "epochs = 8\n",
    "train_losses = []\n",
    "test_losses = []\n",
    "\n",
    "# Train and Test Loaders\n",
    "train_loader = DataLoader(train_data, batch_size=32, shuffle=True)\n",
    "test_loader = DataLoader(test_data, batch_size=32, shuffle=False)\n",
    "\n",
    "# Loop of Epochs\n",
    "for i in range(epochs):\n",
    "    model.train()\n",
    "\n",
    "    # Train\n",
    "    running_train_loss = 0.0\n",
    "    for b,(X_train, y_train) in enumerate(train_loader):\n",
    "        b += 1 #start batches at 1\n",
    "        \n",
    "        y_pred = model(X_train).squeeze()  # get predicted values from training set. 2D not flat\n",
    "        loss = criterion(y_pred, y_train) # How wrong is the prediction\n",
    "\n",
    "        # Update parameters\n",
    "        optimizer.zero_grad()\n",
    "        loss.backward()\n",
    "        optimizer.step()\n",
    "\n",
    "        # Track Loss\n",
    "        running_train_loss += loss.item()\n",
    "\n",
    "        # Print Results\n",
    "        if b%10 == 0:\n",
    "            print(f\"Epoch: {i} Batch: {b} Loss: {loss.item()} Time: {time.time() - start_time}\")\n",
    "\n",
    "    train_losses.append(running_train_loss/len(train_loader))\n",
    "    print(f\"Epoch: {i} Avg Loss: {running_train_loss/len(train_loader)} Time: {time.time() - start_time}\")\n",
    "\n",
    "    # Test\n",
    "    # No gradient\n",
    "    # Don't update weight or biases\n",
    "    running_test_loss = 0.0\n",
    "    model.eval()\n",
    "    with torch.no_grad():\n",
    "        for b,(X_test, y_test) in enumerate(test_loader):\n",
    "            y_val = model(X_test).squeeze()\n",
    "\n",
    "            # Track Loss\n",
    "            loss = criterion(y_val, y_test)\n",
    "            running_test_loss += loss.item()\n",
    "\n",
    "        #loss = criterion(y_val, y_test)\n",
    "        test_losses.append(running_test_loss/len(test_loader))\n",
    "\n",
    "\n",
    "current_time = time.time()\n",
    "total = current_time - start_time\n",
    "\n",
    "print(f\"Training Took: {total} seconds!\")"
   ]
  },
  {
   "cell_type": "code",
   "execution_count": 18,
   "id": "af3f68b5-fa22-4b7a-9767-05fa36d980d9",
   "metadata": {},
   "outputs": [
    {
     "data": {
      "image/png": "[encoded data removed]",
      "text/plain": [
       "<Figure size 640x480 with 1 Axes>"
      ]
     },
     "metadata": {},
     "output_type": "display_data"
    }
   ],
   "source": [
    "# Graphing\n",
    "plt.plot(train_losses, label=\"Training loss\")\n",
    "plt.plot(test_losses, label=\"Validation loss\")\n",
    "plt.title(\"Average Loss per Epoch\")\n",
    "plt.legend()\n",
    "plt.savefig(\"age_estimation_finale.png\")\n",
    "plt.show()"
   ]
  },
  {
   "cell_type": "code",
   "execution_count": 19,
   "id": "69046819-7062-4b4c-9bbc-e568e5316279",
   "metadata": {},
   "outputs": [],
   "source": [
    "# Save Loss Data\n",
    "combined = np.column_stack((train_losses, test_losses))\n",
    "\n",
    "# Save to CSV\n",
    "np.savetxt(\"o_avg_loss.csv\", combined, delimiter=\",\", header=\"Training Loss,Test Loss\", comments='', fmt='%s')"
   ]
  },
  {
   "cell_type": "code",
   "execution_count": 37,
   "id": "7791c670-d6fe-4353-be0a-b7d7ef03062f",
   "metadata": {},
   "outputs": [
    {
     "data": {
      "text/plain": [
       "tensor(41.)"
      ]
     },
     "execution_count": 37,
     "metadata": {},
     "output_type": "execute_result"
    }
   ],
   "source": [
    "# Grab an image\n",
    "my_index = 123\n",
    "test_data[my_index][1] # This is the label, ie it's classification\n",
    "#test_data[my_index][0] # image in numpy format"
   ]
  },
  {
   "cell_type": "code",
   "execution_count": 38,
   "id": "e619f996-9cd1-4e5b-b794-7752cf7a0e22",
   "metadata": {},
   "outputs": [
    {
     "data": {
      "image/png": "[encoded data removed]",
      "text/plain": [
       "<Figure size 640x480 with 1 Axes>"
      ]
     },
     "metadata": {},
     "output_type": "display_data"
    }
   ],
   "source": [
    "#Show image\n",
    "plt.imshow(test_data[my_index][0].reshape(224,224))\n",
    "plt.show()"
   ]
  },
  {
   "cell_type": "code",
   "execution_count": 39,
   "id": "f0c5819e-40eb-4863-baee-1ac18db3e0c4",
   "metadata": {},
   "outputs": [
    {
     "data": {
      "text/plain": [
       "39.880043029785156"
      ]
     },
     "execution_count": 39,
     "metadata": {},
     "output_type": "execute_result"
    }
   ],
   "source": [
    "# Evaluate Grabbed Datapoint\n",
    "model.eval()\n",
    "with torch.no_grad():\n",
    "    new_prediction = model(test_data[my_index][0].view(1,1,224,224)) # Batch size of 1, 1 channel, 28x28\n",
    "\n",
    "new_prediction.item()"
   ]
  },
  {
   "cell_type": "code",
   "execution_count": 17,
   "id": "661bdb54-9182-466b-85de-ac014362f88f",
   "metadata": {},
   "outputs": [],
   "source": [
    "# Save Model\n",
    "torch.save(model.state_dict(), \"epochs_finale_8.pt\")"
   ]
  },
  {
   "cell_type": "code",
   "execution_count": null,
   "id": "458d5b0d-1383-465f-afc5-92c1a35530a7",
   "metadata": {},
   "outputs": [],
   "source": []
  }
 ],
 "metadata": {
  "kernelspec": {
   "display_name": "Python 3 (ipykernel)",
   "language": "python",
   "name": "python3"
  },
  "language_info": {
   "codemirror_mode": {
    "name": "ipython",
    "version": 3
   },
   "file_extension": ".py",
   "mimetype": "text/x-python",
   "name": "python",
   "nbconvert_exporter": "python",
   "pygments_lexer": "ipython3",
   "version": "3.13.3"
  }
 },
 "nbformat": 4,
 "nbformat_minor": 5
}
