{
 "cells": [
  {
   "cell_type": "code",
   "execution_count": 1,
   "id": "07bf95a4-6919-4af7-b283-38f33689cb0f",
   "metadata": {},
   "outputs": [
    {
     "name": "stdout",
     "output_type": "stream",
     "text": [
      "Done\n"
     ]
    }
   ],
   "source": [
    "import os\n",
    "import torch\n",
    "import torch.nn as nn\n",
    "import torch.nn.functional as F\n",
    "from torch.utils.data import DataLoader, Dataset\n",
    "from torchvision import transforms#, datasets\n",
    "from torchvision.utils import make_grid\n",
    "\n",
    "import numpy as np\n",
    "import pandas as pd\n",
    "from sklearn.metrics import confusion_matrix, r2_score\n",
    "import matplotlib.pyplot as plt\n",
    "%matplotlib inline\n",
    "\n",
    "print(\"Done\")"
   ]
  },
  {
   "cell_type": "code",
   "execution_count": 2,
   "id": "e8ff9efb-4c1d-4e3c-885b-b2d7521b9c4a",
   "metadata": {},
   "outputs": [],
   "source": [
    "# Dataset and Annotations\n",
    "input_directory = \"..\\\\o_npy_resized\" #244x244 npy files\n",
    "annotations_path = \"height_annotations.csv\""
   ]
  },
  {
   "cell_type": "code",
   "execution_count": 3,
   "id": "13da375a-f9d8-4875-87cf-d9405b650128",
   "metadata": {},
   "outputs": [
    {
     "data": {
      "text/plain": [
       "<torch._C.Generator at 0x1947c8a02b0>"
      ]
     },
     "execution_count": 3,
     "metadata": {},
     "output_type": "execute_result"
    }
   ],
   "source": [
    "# Seed\n",
    "torch.manual_seed(627726)"
   ]
  },
  {
   "cell_type": "code",
   "execution_count": 4,
   "id": "0dd8c193-59e6-4f57-bf90-9f4039105500",
   "metadata": {},
   "outputs": [],
   "source": [
    "# Dataset Class\n",
    "class HeightDataset(Dataset):\n",
    "    def __init__(self, csv_file, root_dir, transform=None):\n",
    "        self.annotations = pd.read_csv(csv_file)\n",
    "        self.annotations = self.annotations[(self.annotations['Height'] != 0) & (self.annotations['Height'].notnull())] # removes rows where age is unknown\n",
    "        self.root_dir = root_dir\n",
    "        self.transform = transform\n",
    "    def __len__(self):\n",
    "        return len(self.annotations)\n",
    "    def __getitem__(self, index):\n",
    "        img_path = os.path.join(self.root_dir, self.annotations.iloc[index, 0])\n",
    "        image = np.load(img_path)\n",
    "        y_label = torch.tensor(float(self.annotations.iloc[index, 1]))\n",
    "\n",
    "        if self.transform:\n",
    "            image = self.transform(image)\n",
    "\n",
    "        return (image, y_label)"
   ]
  },
  {
   "cell_type": "code",
   "execution_count": 5,
   "id": "68d6e89a-38e4-4284-9af8-5c678837d080",
   "metadata": {},
   "outputs": [],
   "source": [
    "# Create Dataset\n",
    "dts = HeightDataset(csv_file=annotations_path, root_dir=input_directory, transform=transforms.ToTensor())"
   ]
  },
  {
   "cell_type": "code",
   "execution_count": 6,
   "id": "030767fc-99f0-4f30-8fe7-4baa63d77fb6",
   "metadata": {},
   "outputs": [
    {
     "name": "stdout",
     "output_type": "stream",
     "text": [
      "30.0\n",
      "107.0\n",
      "462863.0\n",
      "68.38992316784869\n"
     ]
    }
   ],
   "source": [
    "\"\"\"\n",
    "# Get Min and Max\n",
    "min_val = 1000.0\n",
    "max_val = 0.0\n",
    "avg_val = 0.0\n",
    "total_val = 0.0\n",
    "for i in dts:\n",
    "    min_val = min(i[1].item(), min_val)\n",
    "    max_val = max(i[1].item(), max_val)\n",
    "    total_val += i[1].item()\n",
    "avg_val = total_val/len(dts)\n",
    "print(min_val)\n",
    "print(max_val)\n",
    "print(total_val)\n",
    "print(avg_val)\n",
    "\"\"\""
   ]
  },
  {
   "cell_type": "code",
   "execution_count": 21,
   "id": "bcdfd5b8-4e68-4e28-b3f3-97c52258d452",
   "metadata": {},
   "outputs": [],
   "source": [
    "# Create Test and Train Data\n",
    "train_size = int(len(dts) * 0.8)\n",
    "test_size = len(dts) - train_size\n",
    "\n",
    "train_data, test_data = torch.utils.data.random_split(dts, [train_size, test_size])"
   ]
  },
  {
   "cell_type": "code",
   "execution_count": 28,
   "id": "4976f70b-c06d-4a9a-a249-13859b0257a1",
   "metadata": {},
   "outputs": [],
   "source": [
    "# Model Class\n",
    "class CNN(nn.Module):\n",
    "    def __init__(self):\n",
    "        super().__init__()\n",
    "        self.conv1 = nn.Conv2d(1, 32, 3, 1) \n",
    "        self.conv2 = nn.Conv2d(32, 64, 3, 1)\n",
    "        self.conv3 = nn.Conv2d(64, 128, 3, 1)\n",
    "\n",
    "        self.dp1 = nn.Dropout(0.5)\n",
    "        \n",
    "        self.fc1 = nn.Linear(26*26*128, 1)\n",
    "\n",
    "    def forward(self, X):\n",
    "        # Basically what we did in the previous step\n",
    "        X = F.relu(self.conv1(X))\n",
    "        X = F.max_pool2d(X,2,2)\n",
    "\n",
    "        X = F.relu(self.conv2(X))\n",
    "        X = F.max_pool2d(X,2,2)\n",
    "\n",
    "        X = F.relu(self.conv3(X))\n",
    "        X = F.max_pool2d(X,2,2)\n",
    "\n",
    "        # Flatten Data\n",
    "        # input is -1 to automatically infer batch size, this means we can have a varying batch size\n",
    "        # output is the number of features\n",
    "        X = X.view(-1, 26*26*128)\n",
    "\n",
    "        # Dropout\n",
    "        X = self.dp1(X)\n",
    "        \n",
    "        # FC Layers\n",
    "        X = self.fc1(X)\n",
    "\n",
    "        return X #F.log_softmax(X, dim=1)"
   ]
  },
  {
   "cell_type": "code",
   "execution_count": 41,
   "id": "7f47c902-8345-4934-a01e-02b14ebd3473",
   "metadata": {},
   "outputs": [
    {
     "data": {
      "text/plain": [
       "CNN(\n",
       "  (conv1): Conv2d(1, 32, kernel_size=(3, 3), stride=(1, 1))\n",
       "  (conv2): Conv2d(32, 64, kernel_size=(3, 3), stride=(1, 1))\n",
       "  (conv3): Conv2d(64, 128, kernel_size=(3, 3), stride=(1, 1))\n",
       "  (dp1): Dropout(p=0.5, inplace=False)\n",
       "  (fc1): Linear(in_features=86528, out_features=1, bias=True)\n",
       ")"
      ]
     },
     "execution_count": 41,
     "metadata": {},
     "output_type": "execute_result"
    }
   ],
   "source": [
    "# Create Model\n",
    "model = CNN()\n",
    "model"
   ]
  },
  {
   "cell_type": "code",
   "execution_count": 42,
   "id": "c3e06da2-2938-45f8-8b56-33894808d357",
   "metadata": {},
   "outputs": [],
   "source": [
    "# Loss Function optimizer\n",
    "criterion = nn.L1Loss() # MAE Loss for outliers\n",
    "# lr is learning rate, smaller is slower but better, higher is faster but worse\n",
    "optimizer = torch.optim.Adam(model.parameters(), lr=0.001)"
   ]
  },
  {
   "cell_type": "code",
   "execution_count": 43,
   "id": "de21edfb-c15d-478c-bd9d-d577c797a84c",
   "metadata": {
    "scrolled": true
   },
   "outputs": [
    {
     "name": "stdout",
     "output_type": "stream",
     "text": [
      "Epoch: 0 Batch: 10 Loss: 18.24191665649414 Time: 6.208438158035278\n",
      "Epoch: 0 Batch: 20 Loss: 11.952093124389648 Time: 12.371129274368286\n",
      "Epoch: 0 Batch: 30 Loss: 7.5282182693481445 Time: 18.50607991218567\n",
      "Epoch: 0 Batch: 40 Loss: 6.2377471923828125 Time: 24.65708351135254\n",
      "Epoch: 0 Batch: 50 Loss: 6.2650604248046875 Time: 30.734382390975952\n",
      "Epoch: 0 Batch: 60 Loss: 5.7082600593566895 Time: 36.89595293998718\n",
      "Epoch: 0 Batch: 70 Loss: 5.877298355102539 Time: 42.95984625816345\n",
      "Epoch: 0 Batch: 80 Loss: 6.5117573738098145 Time: 49.12729787826538\n",
      "Epoch: 0 Batch: 90 Loss: 6.626343727111816 Time: 55.30583739280701\n",
      "Epoch: 0 Batch: 100 Loss: 5.569552421569824 Time: 61.44880509376526\n",
      "Epoch: 0 Batch: 110 Loss: 5.951207160949707 Time: 67.56277799606323\n",
      "Epoch: 0 Batch: 120 Loss: 5.464631080627441 Time: 73.6991879940033\n",
      "Epoch: 0 Batch: 130 Loss: 6.67194128036499 Time: 79.80106711387634\n",
      "Epoch: 0 Batch: 140 Loss: 8.240560531616211 Time: 85.93752479553223\n",
      "Epoch: 0 Batch: 150 Loss: 5.294063568115234 Time: 92.05308747291565\n",
      "Epoch: 0 Batch: 160 Loss: 4.841599464416504 Time: 98.25241374969482\n",
      "Epoch: 0 Batch: 170 Loss: 4.644874572753906 Time: 103.9421956539154\n",
      "Epoch: 0 Avg Loss: 8.524250557843377 Time: 103.94257354736328\n",
      "Epoch: 1 Batch: 10 Loss: 7.742253303527832 Time: 121.3003134727478\n",
      "Epoch: 1 Batch: 20 Loss: 4.966639518737793 Time: 127.491055727005\n",
      "Epoch: 1 Batch: 30 Loss: 5.004545211791992 Time: 133.62149238586426\n",
      "Epoch: 1 Batch: 40 Loss: 4.014224052429199 Time: 139.78333353996277\n",
      "Epoch: 1 Batch: 50 Loss: 5.962063789367676 Time: 145.9360387325287\n",
      "Epoch: 1 Batch: 60 Loss: 4.459971904754639 Time: 152.32172513008118\n",
      "Epoch: 1 Batch: 70 Loss: 7.008658409118652 Time: 158.53567910194397\n",
      "Epoch: 1 Batch: 80 Loss: 7.860152721405029 Time: 164.70531034469604\n",
      "Epoch: 1 Batch: 90 Loss: 5.3445940017700195 Time: 170.85892963409424\n",
      "Epoch: 1 Batch: 100 Loss: 6.081666946411133 Time: 176.97858381271362\n",
      "Epoch: 1 Batch: 110 Loss: 4.1555867195129395 Time: 183.06924772262573\n",
      "Epoch: 1 Batch: 120 Loss: 4.196677207946777 Time: 189.18448638916016\n",
      "Epoch: 1 Batch: 130 Loss: 5.200387001037598 Time: 195.29390358924866\n",
      "Epoch: 1 Batch: 140 Loss: 4.759276866912842 Time: 201.42445874214172\n",
      "Epoch: 1 Batch: 150 Loss: 4.137136459350586 Time: 207.58997106552124\n",
      "Epoch: 1 Batch: 160 Loss: 5.5837507247924805 Time: 213.76070928573608\n",
      "Epoch: 1 Batch: 170 Loss: 2.4824447631835938 Time: 219.43520879745483\n",
      "Epoch: 1 Avg Loss: 5.074509163463817 Time: 219.4355812072754\n",
      "Epoch: 2 Batch: 10 Loss: 3.728511095046997 Time: 236.8216631412506\n",
      "Epoch: 2 Batch: 20 Loss: 6.128697872161865 Time: 242.91790580749512\n",
      "Epoch: 2 Batch: 30 Loss: 3.887234687805176 Time: 249.0590422153473\n",
      "Epoch: 2 Batch: 40 Loss: 3.701225757598877 Time: 255.18681478500366\n",
      "Epoch: 2 Batch: 50 Loss: 3.13651704788208 Time: 261.31361985206604\n",
      "Epoch: 2 Batch: 60 Loss: 4.304461479187012 Time: 267.41323375701904\n",
      "Epoch: 2 Batch: 70 Loss: 3.604132652282715 Time: 273.6277365684509\n",
      "Epoch: 2 Batch: 80 Loss: 3.6081676483154297 Time: 279.7832655906677\n",
      "Epoch: 2 Batch: 90 Loss: 5.4065842628479 Time: 285.8995282649994\n",
      "Epoch: 2 Batch: 100 Loss: 4.870331287384033 Time: 292.05659556388855\n",
      "Epoch: 2 Batch: 110 Loss: 3.197111129760742 Time: 298.2083237171173\n",
      "Epoch: 2 Batch: 120 Loss: 4.8069562911987305 Time: 304.32878375053406\n",
      "Epoch: 2 Batch: 130 Loss: 4.816589832305908 Time: 310.4500153064728\n",
      "Epoch: 2 Batch: 140 Loss: 4.298565864562988 Time: 316.623898267746\n",
      "Epoch: 2 Batch: 150 Loss: 6.311667442321777 Time: 322.72776651382446\n",
      "Epoch: 2 Batch: 160 Loss: 2.423771858215332 Time: 328.8855345249176\n",
      "Epoch: 2 Batch: 170 Loss: 4.82977294921875 Time: 334.5018117427826\n",
      "Epoch: 2 Avg Loss: 4.633821279862348 Time: 334.5019795894623\n",
      "Epoch: 3 Batch: 10 Loss: 7.665831089019775 Time: 351.84059047698975\n",
      "Epoch: 3 Batch: 20 Loss: 4.656801223754883 Time: 357.9494421482086\n",
      "Epoch: 3 Batch: 30 Loss: 4.485507011413574 Time: 364.02414774894714\n",
      "Epoch: 3 Batch: 40 Loss: 4.329231262207031 Time: 370.19584488868713\n",
      "Epoch: 3 Batch: 50 Loss: 4.978541374206543 Time: 376.34863090515137\n",
      "Epoch: 3 Batch: 60 Loss: 4.987852573394775 Time: 382.4673731327057\n",
      "Epoch: 3 Batch: 70 Loss: 4.959240913391113 Time: 388.6239755153656\n",
      "Epoch: 3 Batch: 80 Loss: 5.432289123535156 Time: 394.82169222831726\n",
      "Epoch: 3 Batch: 90 Loss: 3.876333236694336 Time: 401.0380346775055\n",
      "Epoch: 3 Batch: 100 Loss: 3.480355978012085 Time: 407.2103810310364\n",
      "Epoch: 3 Batch: 110 Loss: 6.561984062194824 Time: 413.33860206604004\n",
      "Epoch: 3 Batch: 120 Loss: 3.050464630126953 Time: 419.52200531959534\n",
      "Epoch: 3 Batch: 130 Loss: 3.6666934490203857 Time: 425.65301489830017\n",
      "Epoch: 3 Batch: 140 Loss: 4.850848197937012 Time: 431.85032391548157\n",
      "Epoch: 3 Batch: 150 Loss: 4.134706497192383 Time: 438.0130879878998\n",
      "Epoch: 3 Batch: 160 Loss: 5.367964744567871 Time: 444.1376984119415\n",
      "Epoch: 3 Batch: 170 Loss: 5.018901824951172 Time: 449.83794498443604\n",
      "Epoch: 3 Avg Loss: 4.306630799349617 Time: 449.83832120895386\n",
      "Epoch: 4 Batch: 10 Loss: 3.823094367980957 Time: 467.08427000045776\n",
      "Epoch: 4 Batch: 20 Loss: 3.8603129386901855 Time: 473.24144196510315\n",
      "Epoch: 4 Batch: 30 Loss: 7.303945064544678 Time: 479.3896312713623\n",
      "Epoch: 4 Batch: 40 Loss: 3.4183895587921143 Time: 485.5151138305664\n",
      "Epoch: 4 Batch: 50 Loss: 4.086325645446777 Time: 491.70023703575134\n",
      "Epoch: 4 Batch: 60 Loss: 3.0044262409210205 Time: 497.84424567222595\n",
      "Epoch: 4 Batch: 70 Loss: 3.883452892303467 Time: 503.9626154899597\n",
      "Epoch: 4 Batch: 80 Loss: 5.023915767669678 Time: 510.11434507369995\n",
      "Epoch: 4 Batch: 90 Loss: 4.093277931213379 Time: 516.2302026748657\n",
      "Epoch: 4 Batch: 100 Loss: 4.407865047454834 Time: 522.4927222728729\n",
      "Epoch: 4 Batch: 110 Loss: 5.156306743621826 Time: 528.6069948673248\n",
      "Epoch: 4 Batch: 120 Loss: 3.873713493347168 Time: 534.789740562439\n",
      "Epoch: 4 Batch: 130 Loss: 4.815140724182129 Time: 540.9264388084412\n",
      "Epoch: 4 Batch: 140 Loss: 3.4959957599639893 Time: 547.0374009609222\n",
      "Epoch: 4 Batch: 150 Loss: 4.488984107971191 Time: 553.2055587768555\n",
      "Epoch: 4 Batch: 160 Loss: 3.640580177307129 Time: 559.327100276947\n",
      "Epoch: 4 Batch: 170 Loss: 4.171080112457275 Time: 564.9799611568451\n",
      "Epoch: 4 Avg Loss: 4.428096942340626 Time: 564.9803466796875\n",
      "Epoch: 5 Batch: 10 Loss: 3.6627790927886963 Time: 582.2677798271179\n",
      "Epoch: 5 Batch: 20 Loss: 3.4434256553649902 Time: 588.4098296165466\n",
      "Epoch: 5 Batch: 30 Loss: 3.8957178592681885 Time: 594.5765368938446\n",
      "Epoch: 5 Batch: 40 Loss: 3.7762701511383057 Time: 600.7381317615509\n",
      "Epoch: 5 Batch: 50 Loss: 3.281473398208618 Time: 606.8770217895508\n",
      "Epoch: 5 Batch: 60 Loss: 3.8283803462982178 Time: 613.0357892513275\n",
      "Epoch: 5 Batch: 70 Loss: 3.4802258014678955 Time: 619.2052037715912\n",
      "Epoch: 5 Batch: 80 Loss: 2.9654691219329834 Time: 625.3035988807678\n",
      "Epoch: 5 Batch: 90 Loss: 4.041337966918945 Time: 631.445155620575\n",
      "Epoch: 5 Batch: 100 Loss: 3.584289073944092 Time: 637.6003978252411\n",
      "Epoch: 5 Batch: 110 Loss: 3.221370220184326 Time: 643.7969191074371\n",
      "Epoch: 5 Batch: 120 Loss: 3.2705020904541016 Time: 649.9020018577576\n",
      "Epoch: 5 Batch: 130 Loss: 4.460437297821045 Time: 656.0438289642334\n",
      "Epoch: 5 Batch: 140 Loss: 3.646843433380127 Time: 662.1866126060486\n",
      "Epoch: 5 Batch: 150 Loss: 3.073004961013794 Time: 668.3306941986084\n",
      "Epoch: 5 Batch: 160 Loss: 6.895946979522705 Time: 674.4635000228882\n",
      "Epoch: 5 Batch: 170 Loss: 2.6163241863250732 Time: 680.1319878101349\n",
      "Epoch: 5 Avg Loss: 4.001563268549302 Time: 680.1323330402374\n",
      "Epoch: 6 Batch: 10 Loss: 3.5913684368133545 Time: 697.3865075111389\n",
      "Epoch: 6 Batch: 20 Loss: 2.90281081199646 Time: 703.5806457996368\n",
      "Epoch: 6 Batch: 30 Loss: 6.743053913116455 Time: 709.7033469676971\n",
      "Epoch: 6 Batch: 40 Loss: 3.0946459770202637 Time: 715.9007847309113\n",
      "Epoch: 6 Batch: 50 Loss: 4.182908058166504 Time: 722.0603029727936\n",
      "Epoch: 6 Batch: 60 Loss: 4.505359172821045 Time: 728.2481637001038\n",
      "Epoch: 6 Batch: 70 Loss: 2.9408950805664062 Time: 734.4072716236115\n",
      "Epoch: 6 Batch: 80 Loss: 4.410550117492676 Time: 740.506315946579\n",
      "Epoch: 6 Batch: 90 Loss: 2.874159097671509 Time: 746.6659140586853\n",
      "Epoch: 6 Batch: 100 Loss: 5.969398021697998 Time: 752.7876920700073\n",
      "Epoch: 6 Batch: 110 Loss: 3.65897274017334 Time: 758.9480910301208\n",
      "Epoch: 6 Batch: 120 Loss: 4.528143882751465 Time: 765.0599980354309\n",
      "Epoch: 6 Batch: 130 Loss: 4.973343849182129 Time: 771.3209447860718\n",
      "Epoch: 6 Batch: 140 Loss: 4.155630111694336 Time: 777.4517531394958\n",
      "Epoch: 6 Batch: 150 Loss: 4.10333776473999 Time: 783.6419377326965\n",
      "Epoch: 6 Batch: 160 Loss: 4.126456260681152 Time: 789.7658884525299\n",
      "Epoch: 6 Batch: 170 Loss: 3.507415771484375 Time: 795.4498288631439\n",
      "Epoch: 6 Avg Loss: 3.7999652147293093 Time: 795.4499835968018\n",
      "Epoch: 7 Batch: 10 Loss: 4.338800430297852 Time: 812.7264671325684\n",
      "Epoch: 7 Batch: 20 Loss: 3.463331699371338 Time: 818.8737695217133\n",
      "Epoch: 7 Batch: 30 Loss: 4.118777751922607 Time: 825.0052716732025\n",
      "Epoch: 7 Batch: 40 Loss: 2.9859259128570557 Time: 831.1480157375336\n",
      "Epoch: 7 Batch: 50 Loss: 3.462588310241699 Time: 837.2758636474609\n",
      "Epoch: 7 Batch: 60 Loss: 3.0218799114227295 Time: 843.5270977020264\n",
      "Epoch: 7 Batch: 70 Loss: 3.902094602584839 Time: 849.6849341392517\n",
      "Epoch: 7 Batch: 80 Loss: 5.0235676765441895 Time: 855.8438813686371\n",
      "Epoch: 7 Batch: 90 Loss: 5.7332305908203125 Time: 861.9756207466125\n",
      "Epoch: 7 Batch: 100 Loss: 3.7290239334106445 Time: 868.1315972805023\n",
      "Epoch: 7 Batch: 110 Loss: 3.644606113433838 Time: 874.2654423713684\n",
      "Epoch: 7 Batch: 120 Loss: 3.5252294540405273 Time: 880.3857119083405\n",
      "Epoch: 7 Batch: 130 Loss: 3.0087931156158447 Time: 886.5539605617523\n",
      "Epoch: 7 Batch: 140 Loss: 2.7127106189727783 Time: 892.8245761394501\n",
      "Epoch: 7 Batch: 150 Loss: 4.617033004760742 Time: 898.982748746872\n",
      "Epoch: 7 Batch: 160 Loss: 3.6431405544281006 Time: 905.1077563762665\n",
      "Epoch: 7 Batch: 170 Loss: 1.5976701974868774 Time: 910.738094329834\n",
      "Epoch: 7 Avg Loss: 3.669613211996415 Time: 910.7382900714874\n",
      "Epoch: 8 Batch: 10 Loss: 3.087822675704956 Time: 928.096307516098\n",
      "Epoch: 8 Batch: 20 Loss: 3.1254096031188965 Time: 934.2527186870575\n",
      "Epoch: 8 Batch: 30 Loss: 3.0481293201446533 Time: 940.384528875351\n",
      "Epoch: 8 Batch: 40 Loss: 3.070274591445923 Time: 946.4698300361633\n",
      "Epoch: 8 Batch: 50 Loss: 3.443598985671997 Time: 952.5828049182892\n",
      "Epoch: 8 Batch: 60 Loss: 3.1174240112304688 Time: 958.7643749713898\n",
      "Epoch: 8 Batch: 70 Loss: 3.967534065246582 Time: 964.9649503231049\n",
      "Epoch: 8 Batch: 80 Loss: 3.574115514755249 Time: 971.1572382450104\n",
      "Epoch: 8 Batch: 90 Loss: 3.78477144241333 Time: 977.375420331955\n",
      "Epoch: 8 Batch: 100 Loss: 2.333887815475464 Time: 983.5857989788055\n",
      "Epoch: 8 Batch: 110 Loss: 3.950530529022217 Time: 989.7514061927795\n",
      "Epoch: 8 Batch: 120 Loss: 2.260486125946045 Time: 995.9105315208435\n",
      "Epoch: 8 Batch: 130 Loss: 2.747854232788086 Time: 1002.0527119636536\n",
      "Epoch: 8 Batch: 140 Loss: 3.236706018447876 Time: 1008.1948375701904\n",
      "Epoch: 8 Batch: 150 Loss: 2.870070695877075 Time: 1014.4528346061707\n",
      "Epoch: 8 Batch: 160 Loss: 3.8448591232299805 Time: 1020.6601960659027\n",
      "Epoch: 8 Batch: 170 Loss: 2.2858619689941406 Time: 1026.3636620044708\n",
      "Epoch: 8 Avg Loss: 3.404924336601706 Time: 1026.3640081882477\n",
      "Epoch: 9 Batch: 10 Loss: 2.937211036682129 Time: 1044.1908671855927\n",
      "Epoch: 9 Batch: 20 Loss: 3.6144208908081055 Time: 1050.5087089538574\n",
      "Epoch: 9 Batch: 30 Loss: 3.714031934738159 Time: 1056.7443890571594\n",
      "Epoch: 9 Batch: 40 Loss: 3.1006293296813965 Time: 1062.9183332920074\n",
      "Epoch: 9 Batch: 50 Loss: 6.327944755554199 Time: 1069.0364444255829\n",
      "Epoch: 9 Batch: 60 Loss: 3.9287326335906982 Time: 1075.1849012374878\n",
      "Epoch: 9 Batch: 70 Loss: 2.8729817867279053 Time: 1081.4860708713531\n",
      "Epoch: 9 Batch: 80 Loss: 3.0268619060516357 Time: 1087.704134941101\n",
      "Epoch: 9 Batch: 90 Loss: 3.262097120285034 Time: 1093.9688518047333\n",
      "Epoch: 9 Batch: 100 Loss: 2.9466052055358887 Time: 1100.2005560398102\n",
      "Epoch: 9 Batch: 110 Loss: 3.850634813308716 Time: 1106.3489258289337\n",
      "Epoch: 9 Batch: 120 Loss: 3.7208354473114014 Time: 1112.5278897285461\n",
      "Epoch: 9 Batch: 130 Loss: 3.815725803375244 Time: 1118.6998784542084\n",
      "Epoch: 9 Batch: 140 Loss: 3.5470640659332275 Time: 1124.87331533432\n",
      "Epoch: 9 Batch: 150 Loss: 3.836658000946045 Time: 1130.9968502521515\n",
      "Epoch: 9 Batch: 160 Loss: 3.129702568054199 Time: 1137.3222239017487\n",
      "Epoch: 9 Batch: 170 Loss: 4.605513095855713 Time: 1143.2306098937988\n",
      "Epoch: 9 Avg Loss: 3.5462870724060958 Time: 1143.2310044765472\n",
      "Training Took: 1155.8787360191345 seconds!\n"
     ]
    }
   ],
   "source": [
    "import time\n",
    "start_time = time.time()\n",
    "\n",
    "# Define Tracking Vars\n",
    "# Number of times to train and test\n",
    "epochs = 10\n",
    "train_losses = []\n",
    "test_losses = []\n",
    "\n",
    "# Train and Test Loaders\n",
    "train_loader = DataLoader(train_data, batch_size=32, shuffle=True)\n",
    "test_loader = DataLoader(test_data, batch_size=32, shuffle=False)\n",
    "\n",
    "# Loop of Epochs\n",
    "for i in range(epochs):\n",
    "    model.train()\n",
    "\n",
    "    # Train\n",
    "    running_train_loss = 0.0\n",
    "    for b,(X_train, y_train) in enumerate(train_loader):\n",
    "        b += 1 #start batches at 1\n",
    "        \n",
    "        y_pred = model(X_train).squeeze()  # get predicted values from training set. 2D not flat\n",
    "        loss = criterion(y_pred, y_train) # How wrong is the prediction\n",
    "\n",
    "        # Update parameters\n",
    "        optimizer.zero_grad()\n",
    "        loss.backward()\n",
    "        optimizer.step()\n",
    "\n",
    "        # Track Loss\n",
    "        running_train_loss += loss.item()\n",
    "\n",
    "        # Print Results\n",
    "        if b%10 == 0:\n",
    "            print(f\"Epoch: {i} Batch: {b} Loss: {loss.item()} Time: {time.time() - start_time}\")\n",
    "\n",
    "    train_losses.append(running_train_loss/len(train_loader))\n",
    "    print(f\"Epoch: {i} Avg Loss: {running_train_loss/len(train_loader)} Time: {time.time() - start_time}\")\n",
    "\n",
    "    # Test\n",
    "    # No gradient\n",
    "    # Don't update weight or biases\n",
    "    running_test_loss = 0.0\n",
    "    model.eval()\n",
    "    with torch.no_grad():\n",
    "        for b,(X_test, y_test) in enumerate(test_loader):\n",
    "            y_val = model(X_test).squeeze()\n",
    "\n",
    "            # Track Loss\n",
    "            loss = criterion(y_val, y_test)\n",
    "            running_test_loss += loss.item()\n",
    "\n",
    "        #loss = criterion(y_val, y_test)\n",
    "        test_losses.append(running_test_loss/len(test_loader))\n",
    "        \n",
    "current_time = time.time()\n",
    "total = current_time - start_time\n",
    "\n",
    "print(f\"Training Took: {total} seconds!\")"
   ]
  },
  {
   "cell_type": "code",
   "execution_count": 50,
   "id": "af3f68b5-fa22-4b7a-9767-05fa36d980d9",
   "metadata": {},
   "outputs": [
    {
     "data": {
      "image/png": "[encoded data removed]",
      "text/plain": [
       "<Figure size 640x480 with 1 Axes>"
      ]
     },
     "metadata": {},
     "output_type": "display_data"
    }
   ],
   "source": [
    "# Graphing\n",
    "plt.plot(train_losses, label=\"Training loss\")\n",
    "plt.plot(test_losses, label=\"Validation loss\")\n",
    "plt.title(\"Average Loss per Epoch\")\n",
    "plt.legend()\n",
    "plt.savefig(\"height_estimation_finale.png\")\n",
    "plt.show()"
   ]
  },
  {
   "cell_type": "code",
   "execution_count": 47,
   "id": "cbaf0e8d-8654-46c1-9cee-d7e2974e44a5",
   "metadata": {},
   "outputs": [],
   "source": [
    "# Save Loss Data\n",
    "combined = np.column_stack((train_losses, test_losses))\n",
    "\n",
    "# Save to CSV\n",
    "np.savetxt(\"o_avg_loss.csv\", combined, delimiter=\",\", header=\"Training Loss,Test Loss\", comments='', fmt='%s')"
   ]
  },
  {
   "cell_type": "code",
   "execution_count": null,
   "id": "f95401b3-431f-472d-a9e9-92aea2c3b0fd",
   "metadata": {},
   "outputs": [],
   "source": [
    "# Compute R2"
   ]
  },
  {
   "cell_type": "code",
   "execution_count": 33,
   "id": "7791c670-d6fe-4353-be0a-b7d7ef03062f",
   "metadata": {},
   "outputs": [
    {
     "data": {
      "text/plain": [
       "tensor(67.)"
      ]
     },
     "execution_count": 33,
     "metadata": {},
     "output_type": "execute_result"
    }
   ],
   "source": [
    "# Grab an image\n",
    "my_index = 303\n",
    "test_data[my_index][1] # This is the label, ie it's classification\n",
    "#test_data[my_index][0] # image in numpy format"
   ]
  },
  {
   "cell_type": "code",
   "execution_count": 34,
   "id": "e619f996-9cd1-4e5b-b794-7752cf7a0e22",
   "metadata": {},
   "outputs": [
    {
     "data": {
      "image/png": "[encoded data removed]",
      "text/plain": [
       "<Figure size 640x480 with 1 Axes>"
      ]
     },
     "metadata": {},
     "output_type": "display_data"
    }
   ],
   "source": [
    "#Show image\n",
    "plt.imshow(test_data[my_index][0].reshape(224,224))\n",
    "plt.axis(\"off\")\n",
    "plt.show()"
   ]
  },
  {
   "cell_type": "code",
   "execution_count": 46,
   "id": "f0c5819e-40eb-4863-baee-1ac18db3e0c4",
   "metadata": {},
   "outputs": [
    {
     "data": {
      "text/plain": [
       "66.59010314941406"
      ]
     },
     "execution_count": 46,
     "metadata": {},
     "output_type": "execute_result"
    }
   ],
   "source": [
    "# Evaluate Grabbed Datapoint\n",
    "model.eval()\n",
    "with torch.no_grad():\n",
    "    new_prediction = model(test_data[my_index][0].view(1,1,224,224)) # Batch size of 1, 1 channel, 224x224\n",
    "\n",
    "new_prediction.item()"
   ]
  },
  {
   "cell_type": "code",
   "execution_count": 49,
   "id": "661bdb54-9182-466b-85de-ac014362f88f",
   "metadata": {},
   "outputs": [],
   "source": [
    "# Save Model\n",
    "torch.save(model.state_dict(), \"epochs_finale_10.pt\")"
   ]
  },
  {
   "cell_type": "code",
   "execution_count": null,
   "id": "458d5b0d-1383-465f-afc5-92c1a35530a7",
   "metadata": {},
   "outputs": [],
   "source": []
  }
 ],
 "metadata": {
  "kernelspec": {
   "display_name": "Python 3 (ipykernel)",
   "language": "python",
   "name": "python3"
  },
  "language_info": {
   "codemirror_mode": {
    "name": "ipython",
    "version": 3
   },
   "file_extension": ".py",
   "mimetype": "text/x-python",
   "name": "python",
   "nbconvert_exporter": "python",
   "pygments_lexer": "ipython3",
   "version": "3.13.3"
  }
 },
 "nbformat": 4,
 "nbformat_minor": 5
}
