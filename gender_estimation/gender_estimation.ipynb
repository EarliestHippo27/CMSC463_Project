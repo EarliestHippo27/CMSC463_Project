{
 "cells": [
  {
   "cell_type": "code",
   "execution_count": 1,
   "id": "d510720b-e092-492a-8855-69f5ff220e83",
   "metadata": {},
   "outputs": [
    {
     "name": "stdout",
     "output_type": "stream",
     "text": [
      "Done\n"
     ]
    }
   ],
   "source": [
    "import os\n",
    "import torch\n",
    "import torch.nn as nn\n",
    "import torch.nn.functional as F\n",
    "from torch.utils.data import DataLoader, Dataset\n",
    "from torchvision import transforms#, datasets\n",
    "from torchvision.utils import make_grid\n",
    "\n",
    "import numpy as np\n",
    "import pandas as pd\n",
    "from sklearn.metrics import confusion_matrix\n",
    "import matplotlib.pyplot as plt\n",
    "%matplotlib inline\n",
    "\n",
    "print(\"Done\")"
   ]
  },
  {
   "cell_type": "code",
   "execution_count": 2,
   "id": "a1ea0591-40fc-4cc8-b690-6ca73734b6c1",
   "metadata": {},
   "outputs": [],
   "source": [
    "# Dataset and Annotations\n",
    "input_directory = \"..\\\\o_npy_resized\" #244x244 npy files\n",
    "annotations_path = \"gender_annotations.csv\""
   ]
  },
  {
   "cell_type": "code",
   "execution_count": 3,
   "id": "6955f00f-578a-4238-a897-ec4bc3352824",
   "metadata": {},
   "outputs": [
    {
     "data": {
      "text/plain": [
       "<torch._C.Generator at 0x2872e0e02b0>"
      ]
     },
     "execution_count": 3,
     "metadata": {},
     "output_type": "execute_result"
    }
   ],
   "source": [
    "# Seed\n",
    "torch.manual_seed(627726)"
   ]
  },
  {
   "cell_type": "code",
   "execution_count": 7,
   "id": "362ce54f-9c4a-494f-9cb8-3b6864f30a3a",
   "metadata": {},
   "outputs": [],
   "source": [
    "# Dataset Class\n",
    "class GenderDataset(Dataset):\n",
    "    def __init__(self, csv_file, root_dir, transform=None):\n",
    "        self.annotations = pd.read_csv(csv_file)\n",
    "        self.root_dir = root_dir\n",
    "        self.transform = transform\n",
    "    def __len__(self):\n",
    "        return len(self.annotations) #7211\n",
    "    def __getitem__(self, index):\n",
    "        img_path = os.path.join(self.root_dir, self.annotations.iloc[index, 0])\n",
    "        image = np.load(img_path)\n",
    "        y_label = torch.tensor(int(self.annotations.iloc[index, 1]))\n",
    "\n",
    "        if self.transform:\n",
    "            image = self.transform(image)\n",
    "\n",
    "        return (image, y_label)"
   ]
  },
  {
   "cell_type": "code",
   "execution_count": 9,
   "id": "fb456b5f-b136-488a-8167-be8de4b1c611",
   "metadata": {},
   "outputs": [],
   "source": [
    "# Create Dataset\n",
    "dts = GenderDataset(csv_file=annotations_path, root_dir=input_directory, transform=transforms.ToTensor())"
   ]
  },
  {
   "cell_type": "code",
   "execution_count": 10,
   "id": "fa8f25e4-d57f-459d-92b4-bcbc32bed304",
   "metadata": {},
   "outputs": [
    {
     "name": "stdout",
     "output_type": "stream",
     "text": [
      "2529\n",
      "4682\n"
     ]
    }
   ],
   "source": [
    "num_male = 0\n",
    "num_female = 0\n",
    "for i in dts:\n",
    "    if i[1].item() == 1:\n",
    "        num_male += 1\n",
    "    else:\n",
    "        num_female += 1\n",
    "\n",
    "print(num_male)\n",
    "print(num_female)"
   ]
  },
  {
   "cell_type": "code",
   "execution_count": 11,
   "id": "5b16b8e8-6c62-492f-aec0-4816507c9773",
   "metadata": {},
   "outputs": [],
   "source": [
    "# Create Test and Train Data\n",
    "train_size = int(len(dts) * 0.8)\n",
    "test_size = len(dts) - train_size\n",
    "\n",
    "train_data, test_data = torch.utils.data.random_split(dts, [train_size, test_size])"
   ]
  },
  {
   "cell_type": "code",
   "execution_count": 17,
   "id": "7409cd78-0615-490a-96be-2357885910f5",
   "metadata": {
    "scrolled": true
   },
   "outputs": [
    {
     "data": {
      "text/plain": [
       "\"\\n# Create small batchsize for images\\ntrain_loader = DataLoader(train_data, batch_size=32, shuffle=True)\\ntest_loader = DataLoader(test_data, batch_size=32, shuffle=False)\\n\\n# Define CNN Model\\n# CNN Layer 1\\nconv1  = nn.Conv2d(1, 32, 3, 1) \\n# CNN Layer 2\\nconv2 = nn.Conv2d(32, 64, 3, 1)\\n# CNN Layer 2\\nconv3 = nn.Conv2d(64, 128, 3, 1)\\n\\n# Grab 1 datapoint\\nfor i, (X_train, y_train) in enumerate(train_data):\\n    break\\n\\n# View grabbed data\\nX_train.shape\\n#    torch.Size([1,224,224])\\n\\n# set to 4d batch\\n# First param is batch size, it's only 1 for now\\nx = X_train.view(1,1,224,224)\\n\\n# Perform Convolution\\nx = F.relu(conv1(x))\\nx.shape\\n#    torch.Size([1,32,222,222])\\n\\n# Pooling Layer\\nx = F.max_pool2d(x, 2, 2)\\n#print(x.shape)\\n#    torch.Size([1,32,111,111])\\n\\n# Perform Convolution 2\\nx = F.relu(conv2(x))\\n#print(x.shape)\\n# Padding results in dimension loss\\n#    torch.Size([1,64,109,109])\\n\\n# Pooling Layer 2\\nx = F.max_pool2d(x, 2, 2)\\n#print(x.shape)\\n#    torch.Size([1,64,54,54])\\n\\n# Perform Convolution 3\\nx = F.relu(conv3(x))\\nprint(x.shape)\\n# Padding results in dimension loss\\n#    torch.Size([1,128,52,52])\\n\\n# Pooling Layer 3\\nx = F.max_pool2d(x, 2, 2)\\nprint(x.shape)\\n#    torch.Size([1,128,26,26])\\n\""
      ]
     },
     "execution_count": 17,
     "metadata": {},
     "output_type": "execute_result"
    }
   ],
   "source": [
    "# Model Outline\n",
    "\"\"\"\n",
    "# Create small batchsize for images\n",
    "train_loader = DataLoader(train_data, batch_size=32, shuffle=True)\n",
    "test_loader = DataLoader(test_data, batch_size=32, shuffle=False)\n",
    "\n",
    "# Define CNN Model\n",
    "# CNN Layer 1\n",
    "conv1  = nn.Conv2d(1, 32, 3, 1) \n",
    "# CNN Layer 2\n",
    "conv2 = nn.Conv2d(32, 64, 3, 1)\n",
    "# CNN Layer 2\n",
    "conv3 = nn.Conv2d(64, 128, 3, 1)\n",
    "\n",
    "# Grab 1 datapoint\n",
    "for i, (X_train, y_train) in enumerate(train_data):\n",
    "    break\n",
    "\n",
    "# View grabbed data\n",
    "X_train.shape\n",
    "#    torch.Size([1,224,224])\n",
    "\n",
    "# set to 4d batch\n",
    "# First param is batch size, it's only 1 for now\n",
    "x = X_train.view(1,1,224,224)\n",
    "\n",
    "# Perform Convolution\n",
    "x = F.relu(conv1(x))\n",
    "x.shape\n",
    "#    torch.Size([1,32,222,222])\n",
    "\n",
    "# Pooling Layer\n",
    "x = F.max_pool2d(x, 2, 2)\n",
    "#print(x.shape)\n",
    "#    torch.Size([1,32,111,111])\n",
    "\n",
    "# Perform Convolution 2\n",
    "x = F.relu(conv2(x))\n",
    "#print(x.shape)\n",
    "# Padding results in dimension loss\n",
    "#    torch.Size([1,64,109,109])\n",
    "\n",
    "# Pooling Layer 2\n",
    "x = F.max_pool2d(x, 2, 2)\n",
    "#print(x.shape)\n",
    "#    torch.Size([1,64,54,54])\n",
    "\n",
    "# Perform Convolution 3\n",
    "x = F.relu(conv3(x))\n",
    "print(x.shape)\n",
    "# Padding results in dimension loss\n",
    "#    torch.Size([1,128,52,52])\n",
    "\n",
    "# Pooling Layer 3\n",
    "x = F.max_pool2d(x, 2, 2)\n",
    "print(x.shape)\n",
    "#    torch.Size([1,128,26,26])\n",
    "\"\"\""
   ]
  },
  {
   "cell_type": "code",
   "execution_count": 6,
   "id": "09f7ee8b-8197-40b0-8177-2b977bc8f707",
   "metadata": {},
   "outputs": [],
   "source": [
    "# Model Class\n",
    "class CNN(nn.Module):\n",
    "    def __init__(self):\n",
    "        super().__init__()\n",
    "        self.conv1 = nn.Conv2d(1, 32, 3, 1) \n",
    "        self.conv2 = nn.Conv2d(32, 64, 3, 1)\n",
    "        self.conv3 = nn.Conv2d(64, 128, 3, 1)\n",
    "\n",
    "        self.dp1 = nn.Dropout(0.5)\n",
    "        \n",
    "        self.fc1 = nn.Linear(26*26*128, 2)\n",
    "\n",
    "    def forward(self, X):\n",
    "        # Basically what we did in the previous step\n",
    "        X = F.relu(self.conv1(X))\n",
    "        X = F.max_pool2d(X,2,2)\n",
    "\n",
    "        X = F.relu(self.conv2(X))\n",
    "        X = F.max_pool2d(X,2,2)\n",
    "\n",
    "        X = F.relu(self.conv3(X))\n",
    "        X = F.max_pool2d(X,2,2)\n",
    "\n",
    "        # Flatten Data\n",
    "        # input is -1 to automatically infer batch size, this means we can have a varying batch size\n",
    "        # output is the number of features\n",
    "        X = X.view(-1, 26*26*128)\n",
    "\n",
    "        # Dropout\n",
    "        X = self.dp1(X)\n",
    "        \n",
    "        # FC Layers\n",
    "        X = self.fc1(X)\n",
    "\n",
    "        return X #F.log_softmax(X, dim=1)"
   ]
  },
  {
   "cell_type": "code",
   "execution_count": 9,
   "id": "8eb466ee-1036-4f1e-b313-510df9e0e67f",
   "metadata": {},
   "outputs": [
    {
     "data": {
      "text/plain": [
       "CNN(\n",
       "  (conv1): Conv2d(1, 32, kernel_size=(3, 3), stride=(1, 1))\n",
       "  (conv2): Conv2d(32, 64, kernel_size=(3, 3), stride=(1, 1))\n",
       "  (conv3): Conv2d(64, 128, kernel_size=(3, 3), stride=(1, 1))\n",
       "  (dp1): Dropout(p=0.5, inplace=False)\n",
       "  (fc1): Linear(in_features=86528, out_features=2, bias=True)\n",
       ")"
      ]
     },
     "execution_count": 9,
     "metadata": {},
     "output_type": "execute_result"
    }
   ],
   "source": [
    "# Create Model\n",
    "model = CNN()\n",
    "model"
   ]
  },
  {
   "cell_type": "code",
   "execution_count": 10,
   "id": "1d8d3351-6700-40bb-be3f-0b06cfac888d",
   "metadata": {},
   "outputs": [],
   "source": [
    "# Loss Function optimizer\n",
    "criterion = nn.CrossEntropyLoss()\n",
    "# lr is learning rate, smaller is slower but better, higher is faster but worse\n",
    "optimizer = torch.optim.Adam(model.parameters(), lr=0.001)"
   ]
  },
  {
   "cell_type": "code",
   "execution_count": 11,
   "id": "0ff61678-65c1-4136-b346-9ec329f40132",
   "metadata": {
    "scrolled": true
   },
   "outputs": [
    {
     "name": "stdout",
     "output_type": "stream",
     "text": [
      "Epoch: 0 Batch: 10 Loss: 0.6647143959999084 Time: 6.014780521392822\n",
      "Epoch: 0 Batch: 20 Loss: 0.6064879894256592 Time: 12.147477865219116\n",
      "Epoch: 0 Batch: 30 Loss: 0.7176305055618286 Time: 18.059857845306396\n",
      "Epoch: 0 Batch: 40 Loss: 0.590745747089386 Time: 24.037987232208252\n",
      "Epoch: 0 Batch: 50 Loss: 0.6682958006858826 Time: 29.94554114341736\n",
      "Epoch: 0 Batch: 60 Loss: 0.6377497315406799 Time: 36.10826349258423\n",
      "Epoch: 0 Batch: 70 Loss: 0.7085874080657959 Time: 42.02179312705994\n",
      "Epoch: 0 Batch: 80 Loss: 0.5614718794822693 Time: 47.82879376411438\n",
      "Epoch: 0 Batch: 90 Loss: 0.641891360282898 Time: 53.744943141937256\n",
      "Epoch: 0 Batch: 100 Loss: 0.5501769185066223 Time: 59.73637056350708\n",
      "Epoch: 0 Batch: 110 Loss: 0.5638635158538818 Time: 65.6407196521759\n",
      "Epoch: 0 Batch: 120 Loss: 0.5357283353805542 Time: 71.524822473526\n",
      "Epoch: 0 Batch: 130 Loss: 0.6426414251327515 Time: 77.5484664440155\n",
      "Epoch: 0 Batch: 140 Loss: 0.6454265713691711 Time: 83.51731157302856\n",
      "Epoch: 0 Batch: 150 Loss: 0.6728129982948303 Time: 89.50719881057739\n",
      "Epoch: 0 Batch: 160 Loss: 0.5338919758796692 Time: 95.40688991546631\n",
      "Epoch: 0 Batch: 170 Loss: 0.45848461985588074 Time: 101.44684839248657\n",
      "Epoch: 0 Batch: 180 Loss: 0.5799181461334229 Time: 107.51631712913513\n",
      "Epoch: 0 Avg Loss: 0.9243936464602117 Time: 107.66361999511719\n",
      "Epoch: 1 Batch: 10 Loss: 0.6126417517662048 Time: 125.96023654937744\n",
      "Epoch: 1 Batch: 20 Loss: 0.5944300889968872 Time: 131.6954162120819\n",
      "Epoch: 1 Batch: 30 Loss: 0.6226552724838257 Time: 137.44278836250305\n",
      "Epoch: 1 Batch: 40 Loss: 0.47088637948036194 Time: 143.20227599143982\n",
      "Epoch: 1 Batch: 50 Loss: 0.45522621273994446 Time: 148.96792602539062\n",
      "Epoch: 1 Batch: 60 Loss: 0.7376962304115295 Time: 154.69592213630676\n",
      "Epoch: 1 Batch: 70 Loss: 0.5154004096984863 Time: 160.589839220047\n",
      "Epoch: 1 Batch: 80 Loss: 0.49100375175476074 Time: 166.3481366634369\n",
      "Epoch: 1 Batch: 90 Loss: 0.8756315112113953 Time: 172.0941526889801\n",
      "Epoch: 1 Batch: 100 Loss: 0.5980682969093323 Time: 177.85338306427002\n",
      "Epoch: 1 Batch: 110 Loss: 0.6090092658996582 Time: 183.7833502292633\n",
      "Epoch: 1 Batch: 120 Loss: 0.47132113575935364 Time: 189.55675053596497\n",
      "Epoch: 1 Batch: 130 Loss: 0.5840693116188049 Time: 195.314528465271\n",
      "Epoch: 1 Batch: 140 Loss: 0.5145123600959778 Time: 201.0744743347168\n",
      "Epoch: 1 Batch: 150 Loss: 0.4801054298877716 Time: 206.83683919906616\n",
      "Epoch: 1 Batch: 160 Loss: 0.5791012048721313 Time: 212.62737345695496\n",
      "Epoch: 1 Batch: 170 Loss: 0.502444863319397 Time: 218.38860273361206\n",
      "Epoch: 1 Batch: 180 Loss: 0.5551680326461792 Time: 224.1987590789795\n",
      "Epoch: 1 Avg Loss: 0.5609897882240253 Time: 224.34368085861206\n",
      "Epoch: 2 Batch: 10 Loss: 0.3848971128463745 Time: 241.64485597610474\n",
      "Epoch: 2 Batch: 20 Loss: 0.42763233184814453 Time: 247.46385097503662\n",
      "Epoch: 2 Batch: 30 Loss: 0.4404418468475342 Time: 253.21873712539673\n",
      "Epoch: 2 Batch: 40 Loss: 0.4336954951286316 Time: 258.9519851207733\n",
      "Epoch: 2 Batch: 50 Loss: 0.4922228455543518 Time: 264.69963335990906\n",
      "Epoch: 2 Batch: 60 Loss: 0.5115017294883728 Time: 270.44391560554504\n",
      "Epoch: 2 Batch: 70 Loss: 0.491049587726593 Time: 276.1903028488159\n",
      "Epoch: 2 Batch: 80 Loss: 0.5001401305198669 Time: 281.974490404129\n",
      "Epoch: 2 Batch: 90 Loss: 0.4801316559314728 Time: 287.83768701553345\n",
      "Epoch: 2 Batch: 100 Loss: 0.5752230882644653 Time: 293.61816358566284\n",
      "Epoch: 2 Batch: 110 Loss: 0.40741878747940063 Time: 299.3730962276459\n",
      "Epoch: 2 Batch: 120 Loss: 0.6198561787605286 Time: 305.15233635902405\n",
      "Epoch: 2 Batch: 130 Loss: 0.46415016055107117 Time: 310.9177393913269\n",
      "Epoch: 2 Batch: 140 Loss: 0.3075355887413025 Time: 316.635222196579\n",
      "Epoch: 2 Batch: 150 Loss: 0.40812239050865173 Time: 322.3957200050354\n",
      "Epoch: 2 Batch: 160 Loss: 0.5694836974143982 Time: 328.1818935871124\n",
      "Epoch: 2 Batch: 170 Loss: 0.4574763774871826 Time: 333.90655279159546\n",
      "Epoch: 2 Batch: 180 Loss: 0.5251345634460449 Time: 339.66629123687744\n",
      "Epoch: 2 Avg Loss: 0.4901354442973163 Time: 339.80734062194824\n",
      "Epoch: 3 Batch: 10 Loss: 0.48270082473754883 Time: 356.8927171230316\n",
      "Epoch: 3 Batch: 20 Loss: 0.570839524269104 Time: 362.6268804073334\n",
      "Epoch: 3 Batch: 30 Loss: 0.515480637550354 Time: 368.367800951004\n",
      "Epoch: 3 Batch: 40 Loss: 0.2907906770706177 Time: 374.15161752700806\n",
      "Epoch: 3 Batch: 50 Loss: 0.48656561970710754 Time: 379.9525656700134\n",
      "Epoch: 3 Batch: 60 Loss: 0.3313385546207428 Time: 385.6823766231537\n",
      "Epoch: 3 Batch: 70 Loss: 0.33924564719200134 Time: 391.42234897613525\n",
      "Epoch: 3 Batch: 80 Loss: 0.3356386423110962 Time: 397.1705458164215\n",
      "Epoch: 3 Batch: 90 Loss: 0.44585394859313965 Time: 402.9106116294861\n",
      "Epoch: 3 Batch: 100 Loss: 0.5445915460586548 Time: 408.77830028533936\n",
      "Epoch: 3 Batch: 110 Loss: 0.5534987449645996 Time: 414.6055166721344\n",
      "Epoch: 3 Batch: 120 Loss: 0.5619122385978699 Time: 420.3706877231598\n",
      "Epoch: 3 Batch: 130 Loss: 0.39486196637153625 Time: 426.112694978714\n",
      "Epoch: 3 Batch: 140 Loss: 0.6374611854553223 Time: 431.8787875175476\n",
      "Epoch: 3 Batch: 150 Loss: 0.39978355169296265 Time: 437.7076816558838\n",
      "Epoch: 3 Batch: 160 Loss: 0.6278541684150696 Time: 443.443067073822\n",
      "Epoch: 3 Batch: 170 Loss: 0.4358280599117279 Time: 449.20556259155273\n",
      "Epoch: 3 Batch: 180 Loss: 0.49524396657943726 Time: 454.973206281662\n",
      "Epoch: 3 Avg Loss: 0.47121333458476306 Time: 455.11328053474426\n",
      "Epoch: 4 Batch: 10 Loss: 0.37221643328666687 Time: 472.31605291366577\n",
      "Epoch: 4 Batch: 20 Loss: 0.5009305477142334 Time: 478.32112431526184\n",
      "Epoch: 4 Batch: 30 Loss: 0.44932445883750916 Time: 484.04715943336487\n",
      "Epoch: 4 Batch: 40 Loss: 0.526559591293335 Time: 489.77469658851624\n",
      "Epoch: 4 Batch: 50 Loss: 0.49273815751075745 Time: 495.4910078048706\n",
      "Epoch: 4 Batch: 60 Loss: 0.4758109748363495 Time: 501.22412633895874\n",
      "Epoch: 4 Batch: 70 Loss: 0.40187716484069824 Time: 506.9417562484741\n",
      "Epoch: 4 Batch: 80 Loss: 0.5854038596153259 Time: 512.6244764328003\n",
      "Epoch: 4 Batch: 90 Loss: 0.43554142117500305 Time: 518.4244396686554\n",
      "Epoch: 4 Batch: 100 Loss: 0.5555182099342346 Time: 524.1754159927368\n",
      "Epoch: 4 Batch: 110 Loss: 0.32345014810562134 Time: 530.0020105838776\n",
      "Epoch: 4 Batch: 120 Loss: 0.44437354803085327 Time: 535.8696675300598\n",
      "Epoch: 4 Batch: 130 Loss: 0.40231186151504517 Time: 541.7456810474396\n",
      "Epoch: 4 Batch: 140 Loss: 0.5476551055908203 Time: 547.6443240642548\n",
      "Epoch: 4 Batch: 150 Loss: 0.39481601119041443 Time: 553.3913435935974\n",
      "Epoch: 4 Batch: 160 Loss: 0.2666670083999634 Time: 559.1768982410431\n",
      "Epoch: 4 Batch: 170 Loss: 0.3995991349220276 Time: 564.9373228549957\n",
      "Epoch: 4 Batch: 180 Loss: 0.457235187292099 Time: 570.7059721946716\n",
      "Epoch: 4 Avg Loss: 0.4327280639943497 Time: 570.8457024097443\n",
      "Epoch: 5 Batch: 10 Loss: 0.43467000126838684 Time: 587.866072177887\n",
      "Epoch: 5 Batch: 20 Loss: 0.4274427890777588 Time: 593.6256923675537\n",
      "Epoch: 5 Batch: 30 Loss: 0.45595476031303406 Time: 599.4056646823883\n",
      "Epoch: 5 Batch: 40 Loss: 0.5942716598510742 Time: 605.193519115448\n",
      "Epoch: 5 Batch: 50 Loss: 0.5330666303634644 Time: 610.9438209533691\n",
      "Epoch: 5 Batch: 60 Loss: 0.3966958224773407 Time: 616.6836805343628\n",
      "Epoch: 5 Batch: 70 Loss: 0.46769553422927856 Time: 622.443793296814\n",
      "Epoch: 5 Batch: 80 Loss: 0.2628054618835449 Time: 628.2341599464417\n",
      "Epoch: 5 Batch: 90 Loss: 0.4922229051589966 Time: 633.9737491607666\n",
      "Epoch: 5 Batch: 100 Loss: 0.6761308312416077 Time: 639.7230563163757\n",
      "Epoch: 5 Batch: 110 Loss: 0.5657594203948975 Time: 645.5366196632385\n",
      "Epoch: 5 Batch: 120 Loss: 0.4871809482574463 Time: 651.3340969085693\n",
      "Epoch: 5 Batch: 130 Loss: 0.4344790577888489 Time: 657.2400608062744\n",
      "Epoch: 5 Batch: 140 Loss: 0.28030526638031006 Time: 662.996030330658\n",
      "Epoch: 5 Batch: 150 Loss: 0.546427845954895 Time: 668.7618434429169\n",
      "Epoch: 5 Batch: 160 Loss: 0.4292798638343811 Time: 674.4942467212677\n",
      "Epoch: 5 Batch: 170 Loss: 0.43466296792030334 Time: 680.3259575366974\n",
      "Epoch: 5 Batch: 180 Loss: 0.3852553367614746 Time: 686.1428248882294\n",
      "Epoch: 5 Avg Loss: 0.4125607574348292 Time: 686.2904539108276\n",
      "Epoch: 6 Batch: 10 Loss: 0.3426898717880249 Time: 703.57945728302\n",
      "Epoch: 6 Batch: 20 Loss: 0.48932084441185 Time: 709.3828480243683\n",
      "Epoch: 6 Batch: 30 Loss: 0.3878551125526428 Time: 715.1562945842743\n",
      "Epoch: 6 Batch: 40 Loss: 0.47980064153671265 Time: 720.9031057357788\n",
      "Epoch: 6 Batch: 50 Loss: 0.5964280962944031 Time: 726.6936545372009\n",
      "Epoch: 6 Batch: 60 Loss: 0.5146089196205139 Time: 732.454583644867\n",
      "Epoch: 6 Batch: 70 Loss: 0.5143821239471436 Time: 738.2411344051361\n",
      "Epoch: 6 Batch: 80 Loss: 0.5654914975166321 Time: 744.0113244056702\n",
      "Epoch: 6 Batch: 90 Loss: 0.24926187098026276 Time: 749.7930204868317\n",
      "Epoch: 6 Batch: 100 Loss: 0.44537797570228577 Time: 755.6081523895264\n",
      "Epoch: 6 Batch: 110 Loss: 0.4089045822620392 Time: 761.4143400192261\n",
      "Epoch: 6 Batch: 120 Loss: 0.45089250802993774 Time: 767.2059836387634\n",
      "Epoch: 6 Batch: 130 Loss: 0.3302793800830841 Time: 772.9757809638977\n",
      "Epoch: 6 Batch: 140 Loss: 0.18513090908527374 Time: 778.8433771133423\n",
      "Epoch: 6 Batch: 150 Loss: 0.5347345471382141 Time: 784.6508576869965\n",
      "Epoch: 6 Batch: 160 Loss: 0.4153653681278229 Time: 790.4641346931458\n",
      "Epoch: 6 Batch: 170 Loss: 0.32159435749053955 Time: 796.2332997322083\n",
      "Epoch: 6 Batch: 180 Loss: 0.2704795002937317 Time: 801.9996211528778\n",
      "Epoch: 6 Avg Loss: 0.40021003165297747 Time: 802.1453282833099\n",
      "Epoch: 7 Batch: 10 Loss: 0.21513040363788605 Time: 819.3364958763123\n",
      "Epoch: 7 Batch: 20 Loss: 0.2831244468688965 Time: 825.1147508621216\n",
      "Epoch: 7 Batch: 30 Loss: 0.1625497192144394 Time: 830.8760013580322\n",
      "Epoch: 7 Batch: 40 Loss: 0.25023898482322693 Time: 836.6650826931\n",
      "Epoch: 7 Batch: 50 Loss: 0.2834639251232147 Time: 842.4331097602844\n",
      "Epoch: 7 Batch: 60 Loss: 0.36971187591552734 Time: 848.1913931369781\n",
      "Epoch: 7 Batch: 70 Loss: 0.2422301173210144 Time: 853.9462387561798\n",
      "Epoch: 7 Batch: 80 Loss: 0.3482634425163269 Time: 859.6744928359985\n",
      "Epoch: 7 Batch: 90 Loss: 0.43506529927253723 Time: 865.4747517108917\n",
      "Epoch: 7 Batch: 100 Loss: 0.33969834446907043 Time: 871.2464971542358\n",
      "Epoch: 7 Batch: 110 Loss: 0.45710495114326477 Time: 877.0286610126495\n",
      "Epoch: 7 Batch: 120 Loss: 0.34288984537124634 Time: 882.7781987190247\n",
      "Epoch: 7 Batch: 130 Loss: 0.26568904519081116 Time: 888.5256452560425\n",
      "Epoch: 7 Batch: 140 Loss: 0.4678460955619812 Time: 894.2702114582062\n",
      "Epoch: 7 Batch: 150 Loss: 0.4461137056350708 Time: 900.0596919059753\n",
      "Epoch: 7 Batch: 160 Loss: 0.2812384366989136 Time: 905.9331524372101\n",
      "Epoch: 7 Batch: 170 Loss: 0.417964369058609 Time: 911.6952884197235\n",
      "Epoch: 7 Batch: 180 Loss: 0.3304510712623596 Time: 917.414959192276\n",
      "Epoch: 7 Avg Loss: 0.35982815946004665 Time: 917.5590543746948\n",
      "Training Took: 929.2396922111511 seconds!\n"
     ]
    }
   ],
   "source": [
    "import time\n",
    "start_time = time.time()\n",
    "\n",
    "# Define Tracking Vars\n",
    "# Number of times to train and test\n",
    "epochs = 8\n",
    "train_losses = []\n",
    "test_losses = []\n",
    "train_correct = []\n",
    "test_correct = []\n",
    "\n",
    "# Train and Test Loaders\n",
    "train_loader = DataLoader(train_data, batch_size=32, shuffle=True)\n",
    "test_loader = DataLoader(test_data, batch_size=32, shuffle=False)\n",
    "\n",
    "# Loop of Epochs\n",
    "for i in range(epochs):\n",
    "    trn_corr = 0\n",
    "    tst_corr = 0\n",
    "    model.train()\n",
    "\n",
    "    # Train\n",
    "    running_train_loss = 0.0\n",
    "    for b,(X_train, y_train) in enumerate(train_loader):\n",
    "        b += 1 #start batches at 1\n",
    "        y_pred = model(X_train) # get predicted values from training set. 2D not flat\n",
    "        loss = criterion(y_pred, y_train) # How wrong is the prediction\n",
    "\n",
    "        predicted = torch.max(y_pred.data, 1)[1] # add up the number of crrect prediction\n",
    "        batch_corr = (predicted == y_train).sum()\n",
    "        trn_corr += batch_corr\n",
    "\n",
    "        # Update parameters\n",
    "        optimizer.zero_grad()\n",
    "        loss.backward()\n",
    "        optimizer.step()\n",
    "\n",
    "        # Track Loss\n",
    "        running_train_loss += loss.item()\n",
    "\n",
    "        # Print Results\n",
    "        if b%10 == 0:\n",
    "            print(f\"Epoch: {i} Batch: {b} Loss: {loss.item()} Time: {time.time() - start_time}\")\n",
    "\n",
    "    train_losses.append(running_train_loss/len(train_loader))\n",
    "    train_correct.append(trn_corr)\n",
    "    print(f\"Epoch: {i} Avg Loss: {running_train_loss/len(train_loader)} Time: {time.time() - start_time}\")\n",
    "\n",
    "    # Test\n",
    "    # No gradient\n",
    "    # Don't update weight or biases\n",
    "    running_test_loss = 0.0\n",
    "    model.eval()\n",
    "    with torch.no_grad():\n",
    "        for b,(X_test, y_test) in enumerate(test_loader):\n",
    "            y_val = model(X_test)\n",
    "            predicted = torch.max(y_val.data, 1)[1]\n",
    "            tst_corr += (predicted == y_test).sum()\n",
    "\n",
    "            # Track Loss\n",
    "            loss = criterion(y_val, y_test)\n",
    "            running_test_loss += loss.item()\n",
    "\n",
    "        #loss = criterion(y_val, y_test)\n",
    "        test_losses.append(running_test_loss/len(test_loader))\n",
    "        test_correct.append(tst_corr)\n",
    "\n",
    "\n",
    "current_time = time.time()\n",
    "total = current_time - start_time\n",
    "\n",
    "print(f\"Training Took: {total} seconds!\")"
   ]
  },
  {
   "cell_type": "code",
   "execution_count": 18,
   "id": "e48dce32-4583-4b1e-869d-a3ee2feb7b2d",
   "metadata": {},
   "outputs": [],
   "source": [
    "# Train Losses to Float\n",
    "#train_losses = [tl.item() for tl in train_losses]\n",
    "test_losses = [tl/len(test_loader) for tl in test_losses]"
   ]
  },
  {
   "cell_type": "code",
   "execution_count": 21,
   "id": "b20b42b9-0fd2-4cf4-b4b0-ca91c07715c4",
   "metadata": {},
   "outputs": [
    {
     "data": {
      "image/png": "[encoded data removed]",
      "text/plain": [
       "<Figure size 640x480 with 1 Axes>"
      ]
     },
     "metadata": {},
     "output_type": "display_data"
    }
   ],
   "source": [
    "# Graphing\n",
    "plt.plot(train_losses, label=\"training loss\")\n",
    "plt.plot(test_losses, label=\"validation loss\")\n",
    "plt.title(\"Average Loss per Epoch\")\n",
    "plt.legend()\n",
    "plt.savefig(\"gender_estimation_loss_plot.png\")\n",
    "plt.show()"
   ]
  },
  {
   "cell_type": "code",
   "execution_count": 23,
   "id": "e83ff2c8-3b1b-4296-9cde-d7cf32debb20",
   "metadata": {},
   "outputs": [],
   "source": [
    "# Save Loss Data\n",
    "combined = np.column_stack((train_losses, test_losses))\n",
    "\n",
    "# Save to CSV\n",
    "np.savetxt(\"o_avg_loss.csv\", combined, delimiter=\",\", header=\"Training Loss,Test Loss\", comments='', fmt='%s')"
   ]
  },
  {
   "cell_type": "code",
   "execution_count": 22,
   "id": "665cb4d3-fd93-41dc-b764-0c486c9a8e6c",
   "metadata": {},
   "outputs": [
    {
     "data": {
      "image/png": "[encoded data removed]",
      "text/plain": [
       "<Figure size 640x480 with 1 Axes>"
      ]
     },
     "metadata": {},
     "output_type": "display_data"
    }
   ],
   "source": [
    "# Graph Accuracy at end of each Epoch\n",
    "plt.plot([t/train_size for t in train_correct], label=\"Training Accuracy\")\n",
    "plt.plot([t/test_size for t in test_correct], label=\"Validation Accuracy\")\n",
    "plt.title(\"Accuracy at end of Epoch\")\n",
    "plt.legend()\n",
    "plt.savefig(\"gender_estimation_accuracy_plot.png\")\n",
    "plt.show()"
   ]
  },
  {
   "cell_type": "code",
   "execution_count": 24,
   "id": "075cca5a-4d30-4edd-9d36-7f0b6d3513b7",
   "metadata": {},
   "outputs": [],
   "source": [
    "# Save Loss Data\n",
    "combined = np.column_stack(([t/train_size for t in train_correct], [t/test_size for t in test_correct]))\n",
    "\n",
    "# Save to CSV\n",
    "np.savetxt(\"o_acc.csv\", combined, delimiter=\",\", header=\"Training Acc,Test Acc\", comments='', fmt='%s')"
   ]
  },
  {
   "cell_type": "code",
   "execution_count": 25,
   "id": "f7d76a02-6f23-459a-a980-1d27c17a0c01",
   "metadata": {},
   "outputs": [],
   "source": [
    "# Save Model\n",
    "torch.save(model.state_dict(), \"epochs_finale_8_dp.pt\")"
   ]
  },
  {
   "cell_type": "code",
   "execution_count": 18,
   "id": "30248e8a-d2c1-4f61-920e-27c6723ed210",
   "metadata": {},
   "outputs": [
    {
     "data": {
      "text/plain": [
       "tensor(1)"
      ]
     },
     "execution_count": 18,
     "metadata": {},
     "output_type": "execute_result"
    }
   ],
   "source": [
    "# Grab an image\n",
    "my_index = 456\n",
    "test_data[my_index][1] # This is the label, ie it's classification\n",
    "#test_data[my_index][0] # image in numpy format"
   ]
  },
  {
   "cell_type": "code",
   "execution_count": 19,
   "id": "657208a6-f337-40f2-8c8d-9ae7f4156254",
   "metadata": {},
   "outputs": [
    {
     "data": {
      "image/png": "[encoded data removed]",
      "text/plain": [
       "<Figure size 640x480 with 1 Axes>"
      ]
     },
     "metadata": {},
     "output_type": "display_data"
    }
   ],
   "source": [
    "#Show image\n",
    "plt.imshow(test_data[my_index][0].reshape(224,224))\n",
    "plt.show()"
   ]
  },
  {
   "cell_type": "code",
   "execution_count": 20,
   "id": "fc567ae9-c796-4cd6-ac3a-d05af82ab769",
   "metadata": {},
   "outputs": [
    {
     "data": {
      "text/plain": [
       "tensor(0)"
      ]
     },
     "execution_count": 20,
     "metadata": {},
     "output_type": "execute_result"
    }
   ],
   "source": [
    "# Evaluate Grabbed Datapoint\n",
    "model.eval()\n",
    "with torch.no_grad():\n",
    "    new_prediction = model(test_data[my_index][0].view(1,1,224,224)) # Batch size of 1, 1 channel, 28x28\n",
    "\n",
    "new_prediction.argmax()"
   ]
  },
  {
   "cell_type": "code",
   "execution_count": null,
   "id": "6143ed78-613f-4f17-b35a-59061bf77037",
   "metadata": {},
   "outputs": [],
   "source": [
    "# Evaluate Grabbed Datapoint\n",
    "new_model.eval()\n",
    "with torch.no_grad():\n",
    "    new_prediction = new_model(test_data[my_index][0].view(1,1,224,224)) # Batch size of 1, 1 channel, 28x28\n",
    "\n",
    "new_prediction.argmax()"
   ]
  },
  {
   "cell_type": "code",
   "execution_count": 7,
   "id": "d6e140fd-1fa5-4b37-ac73-442a1198ffef",
   "metadata": {},
   "outputs": [
    {
     "name": "stderr",
     "output_type": "stream",
     "text": [
      "C:\\Users\\johny\\AppData\\Local\\Temp\\ipykernel_19020\\1464521245.py:3: FutureWarning: You are using `torch.load` with `weights_only=False` (the current default value), which uses the default pickle module implicitly. It is possible to construct malicious pickle data which will execute arbitrary code during unpickling (See https://github.com/pytorch/pytorch/blob/main/SECURITY.md#untrusted-models for more details). In a future release, the default value for `weights_only` will be flipped to `True`. This limits the functions that could be executed during unpickling. Arbitrary objects will no longer be allowed to be loaded via this mode unless they are explicitly allowlisted by the user via `torch.serialization.add_safe_globals`. We recommend you start setting `weights_only=True` for any use case where you don't have full control of the loaded file. Please open an issue on GitHub for any issues related to this experimental feature.\n",
      "  new_model.load_state_dict(torch.load(\"epochs_finale_8_dp.pt\"))\n"
     ]
    },
    {
     "data": {
      "text/plain": [
       "<All keys matched successfully>"
      ]
     },
     "execution_count": 7,
     "metadata": {},
     "output_type": "execute_result"
    }
   ],
   "source": [
    "# Load Model\n",
    "new_model = CNN()\n",
    "new_model.load_state_dict(torch.load(\"epochs_finale_8_dp.pt\"))"
   ]
  },
  {
   "cell_type": "code",
   "execution_count": 20,
   "id": "9f50d6da-c682-4f0a-addb-d737cec51a98",
   "metadata": {},
   "outputs": [
    {
     "data": {
      "text/plain": [
       "tensor(1)"
      ]
     },
     "execution_count": 20,
     "metadata": {},
     "output_type": "execute_result"
    }
   ],
   "source": [
    "# Evaluate Grabbed Datapoint\n",
    "new_model.eval()\n",
    "with torch.no_grad():\n",
    "    new_prediction = new_model(test_data[my_index][0].view(1,1,224,224)) # Batch size of 1, 1 channel, 28x28\n",
    "\n",
    "new_prediction.argmax()"
   ]
  },
  {
   "cell_type": "code",
   "execution_count": null,
   "id": "10b9ea51-2059-428f-802b-30ea8740c684",
   "metadata": {},
   "outputs": [],
   "source": []
  }
 ],
 "metadata": {
  "kernelspec": {
   "display_name": "Python 3 (ipykernel)",
   "language": "python",
   "name": "python3"
  },
  "language_info": {
   "codemirror_mode": {
    "name": "ipython",
    "version": 3
   },
   "file_extension": ".py",
   "mimetype": "text/x-python",
   "name": "python",
   "nbconvert_exporter": "python",
   "pygments_lexer": "ipython3",
   "version": "3.13.3"
  }
 },
 "nbformat": 4,
 "nbformat_minor": 5
}
